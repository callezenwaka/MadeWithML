{
  "nbformat": 4,
  "nbformat_minor": 0,
  "metadata": {
    "colab": {
      "name": "10_Utilities",
      "provenance": [],
      "toc_visible": true,
      "gpuType": "T4"
    },
    "kernelspec": {
      "name": "python3",
      "display_name": "Python 3"
    },
    "accelerator": "GPU"
  },
  "cells": [
    {
      "cell_type": "markdown",
      "metadata": {
        "id": "WX2WO7zz4H8q"
      },
      "source": [
        "<div align=\"center\">\n",
        "<h1><img width=\"30\" src=\"https://madewithml.com/static/images/rounded_logo.png\">&nbsp;<a href=\"https://madewithml.com/\">Made With ML</a></h1>\n",
        "Applied ML · MLOps · Production\n",
        "<br>\n",
        "Join 30K+ developers in learning how to responsibly <a href=\"https://madewithml.com/about/\">deliver value</a> with ML.\n",
        "    <br>\n",
        "</div>\n",
        "\n",
        "<br>\n",
        "\n",
        "<div align=\"center\">\n",
        "    <a target=\"_blank\" href=\"https://newsletter.madewithml.com\"><img src=\"https://img.shields.io/badge/Subscribe-30K-brightgreen\"></a>&nbsp;\n",
        "    <a target=\"_blank\" href=\"https://github.com/GokuMohandas/MadeWithML\"><img src=\"https://img.shields.io/github/stars/GokuMohandas/MadeWithML.svg?style=social&label=Star\"></a>&nbsp;\n",
        "    <a target=\"_blank\" href=\"https://www.linkedin.com/in/goku\"><img src=\"https://img.shields.io/badge/style--5eba00.svg?label=LinkedIn&logo=linkedin&style=social\"></a>&nbsp;\n",
        "    <a target=\"_blank\" href=\"https://twitter.com/GokuMohandas\"><img src=\"https://img.shields.io/twitter/follow/GokuMohandas.svg?label=Follow&style=social\"></a>\n",
        "    <br>\n",
        "    🔥&nbsp; Among the <a href=\"https://github.com/topics/deep-learning\" target=\"_blank\">top ML</a> repositories on GitHub\n",
        "</div>\n",
        "\n",
        "<br>\n",
        "<hr>"
      ]
    },
    {
      "cell_type": "markdown",
      "metadata": {
        "id": "eTdCMVl9YAXw"
      },
      "source": [
        "# Utilities\n",
        "In this lesson, we will explore utilities to extend and simplify training."
      ]
    },
    {
      "cell_type": "markdown",
      "metadata": {
        "id": "xuabAj4PYj57"
      },
      "source": [
        "<div align=\"left\">\n",
        "<a target=\"_blank\" href=\"https://madewithml.com/courses/foundations/utilities/\"><img src=\"https://img.shields.io/badge/📖 Read-blog post-9cf\"></a>&nbsp;\n",
        "<a href=\"https://github.com/GokuMohandas/MadeWithML/blob/main/notebooks/10_Utilities.ipynb\" role=\"button\"><img src=\"https://img.shields.io/static/v1?label=&amp;message=View%20On%20GitHub&amp;color=586069&amp;logo=github&amp;labelColor=2f363d\"></a>&nbsp;\n",
        "<a href=\"https://colab.research.google.com/github/GokuMohandas/MadeWithML/blob/main/notebooks/10_Utilities.ipynb\"><img src=\"https://colab.research.google.com/assets/colab-badge.svg\" alt=\"Open In Colab\"></a>\n",
        "</div>"
      ]
    },
    {
      "cell_type": "markdown",
      "metadata": {
        "id": "XJhSbs58DJ6J"
      },
      "source": [
        "# Set up"
      ]
    },
    {
      "cell_type": "markdown",
      "metadata": {
        "id": "1Y4B-vV4WuxR"
      },
      "source": [
        "We're having to set a lot of seeds for reproducibility now, so let's wrap it all up in a function."
      ]
    },
    {
      "cell_type": "code",
      "metadata": {
        "id": "bU6W3WS_E12l"
      },
      "source": [
        "import numpy as np\n",
        "import pandas as pd\n",
        "import random\n",
        "import torch\n",
        "import torch.nn as nn"
      ],
      "execution_count": 1,
      "outputs": []
    },
    {
      "cell_type": "code",
      "metadata": {
        "id": "nN1UNo6HE23b"
      },
      "source": [
        "SEED = 1234"
      ],
      "execution_count": 2,
      "outputs": []
    },
    {
      "cell_type": "code",
      "metadata": {
        "id": "sLLG-r61E2_M"
      },
      "source": [
        "def set_seeds(seed=1234):\n",
        "    \"\"\"Set seeds for reproducibility.\"\"\"\n",
        "    np.random.seed(seed)\n",
        "    random.seed(seed)\n",
        "    torch.manual_seed(seed)\n",
        "    torch.cuda.manual_seed(seed)\n",
        "    torch.cuda.manual_seed_all(seed) # multi-GPU"
      ],
      "execution_count": 3,
      "outputs": []
    },
    {
      "cell_type": "code",
      "metadata": {
        "id": "0uih55opr7ye"
      },
      "source": [
        "# Set seeds for reproducibility\n",
        "set_seeds(seed=SEED)"
      ],
      "execution_count": 4,
      "outputs": []
    },
    {
      "cell_type": "code",
      "metadata": {
        "colab": {
          "base_uri": "https://localhost:8080/"
        },
        "id": "6jiN0KrPr71U",
        "outputId": "a86e0bc6-3e4f-4d28-e820-efe862019b64"
      },
      "source": [
        "# Set device\n",
        "cuda = True\n",
        "device = torch.device('cuda' if (\n",
        "    torch.cuda.is_available() and cuda) else 'cpu')\n",
        "torch.set_default_tensor_type('torch.FloatTensor')\n",
        "if device.type == 'cuda':\n",
        "    torch.set_default_tensor_type('torch.cuda.FloatTensor')\n",
        "print (device)"
      ],
      "execution_count": 5,
      "outputs": [
        {
          "output_type": "stream",
          "name": "stdout",
          "text": [
            "cuda\n"
          ]
        },
        {
          "output_type": "stream",
          "name": "stderr",
          "text": [
            "/usr/local/lib/python3.10/dist-packages/torch/__init__.py:747: UserWarning: torch.set_default_tensor_type() is deprecated as of PyTorch 2.1, please use torch.set_default_dtype() and torch.set_default_device() as alternatives. (Triggered internally at ../torch/csrc/tensor/python_tensor.cpp:431.)\n",
            "  _C._set_default_tensor_type(t)\n"
          ]
        }
      ]
    },
    {
      "cell_type": "code",
      "source": [
        "# # Set device\n",
        "# cuda = True\n",
        "# device = torch.device('cuda' if (torch.cuda.is_available() and cuda) else 'cpu')\n",
        "\n",
        "# # Set default data type\n",
        "# if device.type == 'cuda':\n",
        "#     torch.set_default_dtype(torch.float32)\n",
        "# else:\n",
        "#     torch.set_default_dtype(torch.float64)\n",
        "\n",
        "# # Set default device\n",
        "# torch.set_default_device(device)\n",
        "\n",
        "# print(device)"
      ],
      "metadata": {
        "id": "igvqmD4Xr6kw"
      },
      "execution_count": 6,
      "outputs": []
    },
    {
      "cell_type": "markdown",
      "metadata": {
        "id": "XtKqNioAayCy"
      },
      "source": [
        "## Load data"
      ]
    },
    {
      "cell_type": "markdown",
      "metadata": {
        "id": "X3OrtMpFayFC"
      },
      "source": [
        "We'll use the same spiral dataset from previous lessons to demonstrate our utilities."
      ]
    },
    {
      "cell_type": "code",
      "metadata": {
        "id": "9NfIz_4OPYpG"
      },
      "source": [
        "import matplotlib.pyplot as plt\n",
        "import pandas as pd"
      ],
      "execution_count": 7,
      "outputs": []
    },
    {
      "cell_type": "code",
      "metadata": {
        "id": "q14QCqKxUS2v",
        "colab": {
          "base_uri": "https://localhost:8080/",
          "height": 206
        },
        "outputId": "91500cac-7ca6-451b-c6e6-1a10a395663a"
      },
      "source": [
        "# Load data\n",
        "url = \"https://raw.githubusercontent.com/callezenwaka/MadeWithML/main/datasets/spiral.csv\"\n",
        "df = pd.read_csv(url, header=0) # load\n",
        "df = df.sample(frac=1).reset_index(drop=True) # shuffle\n",
        "df.head()"
      ],
      "execution_count": 8,
      "outputs": [
        {
          "output_type": "execute_result",
          "data": {
            "text/plain": [
              "         X1        X2 color\n",
              "0  0.106737  0.114197    c1\n",
              "1  0.311513 -0.664028    c1\n",
              "2  0.019870 -0.703126    c1\n",
              "3 -0.054017  0.508159    c3\n",
              "4 -0.127751 -0.011382    c3"
            ],
            "text/html": [
              "\n",
              "  <div id=\"df-aedacf5d-0390-40b7-bc3a-a502d17a0fe9\" class=\"colab-df-container\">\n",
              "    <div>\n",
              "<style scoped>\n",
              "    .dataframe tbody tr th:only-of-type {\n",
              "        vertical-align: middle;\n",
              "    }\n",
              "\n",
              "    .dataframe tbody tr th {\n",
              "        vertical-align: top;\n",
              "    }\n",
              "\n",
              "    .dataframe thead th {\n",
              "        text-align: right;\n",
              "    }\n",
              "</style>\n",
              "<table border=\"1\" class=\"dataframe\">\n",
              "  <thead>\n",
              "    <tr style=\"text-align: right;\">\n",
              "      <th></th>\n",
              "      <th>X1</th>\n",
              "      <th>X2</th>\n",
              "      <th>color</th>\n",
              "    </tr>\n",
              "  </thead>\n",
              "  <tbody>\n",
              "    <tr>\n",
              "      <th>0</th>\n",
              "      <td>0.106737</td>\n",
              "      <td>0.114197</td>\n",
              "      <td>c1</td>\n",
              "    </tr>\n",
              "    <tr>\n",
              "      <th>1</th>\n",
              "      <td>0.311513</td>\n",
              "      <td>-0.664028</td>\n",
              "      <td>c1</td>\n",
              "    </tr>\n",
              "    <tr>\n",
              "      <th>2</th>\n",
              "      <td>0.019870</td>\n",
              "      <td>-0.703126</td>\n",
              "      <td>c1</td>\n",
              "    </tr>\n",
              "    <tr>\n",
              "      <th>3</th>\n",
              "      <td>-0.054017</td>\n",
              "      <td>0.508159</td>\n",
              "      <td>c3</td>\n",
              "    </tr>\n",
              "    <tr>\n",
              "      <th>4</th>\n",
              "      <td>-0.127751</td>\n",
              "      <td>-0.011382</td>\n",
              "      <td>c3</td>\n",
              "    </tr>\n",
              "  </tbody>\n",
              "</table>\n",
              "</div>\n",
              "    <div class=\"colab-df-buttons\">\n",
              "\n",
              "  <div class=\"colab-df-container\">\n",
              "    <button class=\"colab-df-convert\" onclick=\"convertToInteractive('df-aedacf5d-0390-40b7-bc3a-a502d17a0fe9')\"\n",
              "            title=\"Convert this dataframe to an interactive table.\"\n",
              "            style=\"display:none;\">\n",
              "\n",
              "  <svg xmlns=\"http://www.w3.org/2000/svg\" height=\"24px\" viewBox=\"0 -960 960 960\">\n",
              "    <path d=\"M120-120v-720h720v720H120Zm60-500h600v-160H180v160Zm220 220h160v-160H400v160Zm0 220h160v-160H400v160ZM180-400h160v-160H180v160Zm440 0h160v-160H620v160ZM180-180h160v-160H180v160Zm440 0h160v-160H620v160Z\"/>\n",
              "  </svg>\n",
              "    </button>\n",
              "\n",
              "  <style>\n",
              "    .colab-df-container {\n",
              "      display:flex;\n",
              "      gap: 12px;\n",
              "    }\n",
              "\n",
              "    .colab-df-convert {\n",
              "      background-color: #E8F0FE;\n",
              "      border: none;\n",
              "      border-radius: 50%;\n",
              "      cursor: pointer;\n",
              "      display: none;\n",
              "      fill: #1967D2;\n",
              "      height: 32px;\n",
              "      padding: 0 0 0 0;\n",
              "      width: 32px;\n",
              "    }\n",
              "\n",
              "    .colab-df-convert:hover {\n",
              "      background-color: #E2EBFA;\n",
              "      box-shadow: 0px 1px 2px rgba(60, 64, 67, 0.3), 0px 1px 3px 1px rgba(60, 64, 67, 0.15);\n",
              "      fill: #174EA6;\n",
              "    }\n",
              "\n",
              "    .colab-df-buttons div {\n",
              "      margin-bottom: 4px;\n",
              "    }\n",
              "\n",
              "    [theme=dark] .colab-df-convert {\n",
              "      background-color: #3B4455;\n",
              "      fill: #D2E3FC;\n",
              "    }\n",
              "\n",
              "    [theme=dark] .colab-df-convert:hover {\n",
              "      background-color: #434B5C;\n",
              "      box-shadow: 0px 1px 3px 1px rgba(0, 0, 0, 0.15);\n",
              "      filter: drop-shadow(0px 1px 2px rgba(0, 0, 0, 0.3));\n",
              "      fill: #FFFFFF;\n",
              "    }\n",
              "  </style>\n",
              "\n",
              "    <script>\n",
              "      const buttonEl =\n",
              "        document.querySelector('#df-aedacf5d-0390-40b7-bc3a-a502d17a0fe9 button.colab-df-convert');\n",
              "      buttonEl.style.display =\n",
              "        google.colab.kernel.accessAllowed ? 'block' : 'none';\n",
              "\n",
              "      async function convertToInteractive(key) {\n",
              "        const element = document.querySelector('#df-aedacf5d-0390-40b7-bc3a-a502d17a0fe9');\n",
              "        const dataTable =\n",
              "          await google.colab.kernel.invokeFunction('convertToInteractive',\n",
              "                                                    [key], {});\n",
              "        if (!dataTable) return;\n",
              "\n",
              "        const docLinkHtml = 'Like what you see? Visit the ' +\n",
              "          '<a target=\"_blank\" href=https://colab.research.google.com/notebooks/data_table.ipynb>data table notebook</a>'\n",
              "          + ' to learn more about interactive tables.';\n",
              "        element.innerHTML = '';\n",
              "        dataTable['output_type'] = 'display_data';\n",
              "        await google.colab.output.renderOutput(dataTable, element);\n",
              "        const docLink = document.createElement('div');\n",
              "        docLink.innerHTML = docLinkHtml;\n",
              "        element.appendChild(docLink);\n",
              "      }\n",
              "    </script>\n",
              "  </div>\n",
              "\n",
              "\n",
              "<div id=\"df-0c884969-68b3-464b-86ed-2ba3b3b070a7\">\n",
              "  <button class=\"colab-df-quickchart\" onclick=\"quickchart('df-0c884969-68b3-464b-86ed-2ba3b3b070a7')\"\n",
              "            title=\"Suggest charts\"\n",
              "            style=\"display:none;\">\n",
              "\n",
              "<svg xmlns=\"http://www.w3.org/2000/svg\" height=\"24px\"viewBox=\"0 0 24 24\"\n",
              "     width=\"24px\">\n",
              "    <g>\n",
              "        <path d=\"M19 3H5c-1.1 0-2 .9-2 2v14c0 1.1.9 2 2 2h14c1.1 0 2-.9 2-2V5c0-1.1-.9-2-2-2zM9 17H7v-7h2v7zm4 0h-2V7h2v10zm4 0h-2v-4h2v4z\"/>\n",
              "    </g>\n",
              "</svg>\n",
              "  </button>\n",
              "\n",
              "<style>\n",
              "  .colab-df-quickchart {\n",
              "      --bg-color: #E8F0FE;\n",
              "      --fill-color: #1967D2;\n",
              "      --hover-bg-color: #E2EBFA;\n",
              "      --hover-fill-color: #174EA6;\n",
              "      --disabled-fill-color: #AAA;\n",
              "      --disabled-bg-color: #DDD;\n",
              "  }\n",
              "\n",
              "  [theme=dark] .colab-df-quickchart {\n",
              "      --bg-color: #3B4455;\n",
              "      --fill-color: #D2E3FC;\n",
              "      --hover-bg-color: #434B5C;\n",
              "      --hover-fill-color: #FFFFFF;\n",
              "      --disabled-bg-color: #3B4455;\n",
              "      --disabled-fill-color: #666;\n",
              "  }\n",
              "\n",
              "  .colab-df-quickchart {\n",
              "    background-color: var(--bg-color);\n",
              "    border: none;\n",
              "    border-radius: 50%;\n",
              "    cursor: pointer;\n",
              "    display: none;\n",
              "    fill: var(--fill-color);\n",
              "    height: 32px;\n",
              "    padding: 0;\n",
              "    width: 32px;\n",
              "  }\n",
              "\n",
              "  .colab-df-quickchart:hover {\n",
              "    background-color: var(--hover-bg-color);\n",
              "    box-shadow: 0 1px 2px rgba(60, 64, 67, 0.3), 0 1px 3px 1px rgba(60, 64, 67, 0.15);\n",
              "    fill: var(--button-hover-fill-color);\n",
              "  }\n",
              "\n",
              "  .colab-df-quickchart-complete:disabled,\n",
              "  .colab-df-quickchart-complete:disabled:hover {\n",
              "    background-color: var(--disabled-bg-color);\n",
              "    fill: var(--disabled-fill-color);\n",
              "    box-shadow: none;\n",
              "  }\n",
              "\n",
              "  .colab-df-spinner {\n",
              "    border: 2px solid var(--fill-color);\n",
              "    border-color: transparent;\n",
              "    border-bottom-color: var(--fill-color);\n",
              "    animation:\n",
              "      spin 1s steps(1) infinite;\n",
              "  }\n",
              "\n",
              "  @keyframes spin {\n",
              "    0% {\n",
              "      border-color: transparent;\n",
              "      border-bottom-color: var(--fill-color);\n",
              "      border-left-color: var(--fill-color);\n",
              "    }\n",
              "    20% {\n",
              "      border-color: transparent;\n",
              "      border-left-color: var(--fill-color);\n",
              "      border-top-color: var(--fill-color);\n",
              "    }\n",
              "    30% {\n",
              "      border-color: transparent;\n",
              "      border-left-color: var(--fill-color);\n",
              "      border-top-color: var(--fill-color);\n",
              "      border-right-color: var(--fill-color);\n",
              "    }\n",
              "    40% {\n",
              "      border-color: transparent;\n",
              "      border-right-color: var(--fill-color);\n",
              "      border-top-color: var(--fill-color);\n",
              "    }\n",
              "    60% {\n",
              "      border-color: transparent;\n",
              "      border-right-color: var(--fill-color);\n",
              "    }\n",
              "    80% {\n",
              "      border-color: transparent;\n",
              "      border-right-color: var(--fill-color);\n",
              "      border-bottom-color: var(--fill-color);\n",
              "    }\n",
              "    90% {\n",
              "      border-color: transparent;\n",
              "      border-bottom-color: var(--fill-color);\n",
              "    }\n",
              "  }\n",
              "</style>\n",
              "\n",
              "  <script>\n",
              "    async function quickchart(key) {\n",
              "      const quickchartButtonEl =\n",
              "        document.querySelector('#' + key + ' button');\n",
              "      quickchartButtonEl.disabled = true;  // To prevent multiple clicks.\n",
              "      quickchartButtonEl.classList.add('colab-df-spinner');\n",
              "      try {\n",
              "        const charts = await google.colab.kernel.invokeFunction(\n",
              "            'suggestCharts', [key], {});\n",
              "      } catch (error) {\n",
              "        console.error('Error during call to suggestCharts:', error);\n",
              "      }\n",
              "      quickchartButtonEl.classList.remove('colab-df-spinner');\n",
              "      quickchartButtonEl.classList.add('colab-df-quickchart-complete');\n",
              "    }\n",
              "    (() => {\n",
              "      let quickchartButtonEl =\n",
              "        document.querySelector('#df-0c884969-68b3-464b-86ed-2ba3b3b070a7 button');\n",
              "      quickchartButtonEl.style.display =\n",
              "        google.colab.kernel.accessAllowed ? 'block' : 'none';\n",
              "    })();\n",
              "  </script>\n",
              "</div>\n",
              "    </div>\n",
              "  </div>\n"
            ],
            "application/vnd.google.colaboratory.intrinsic+json": {
              "type": "dataframe",
              "variable_name": "df",
              "summary": "{\n  \"name\": \"df\",\n  \"rows\": 1500,\n  \"fields\": [\n    {\n      \"column\": \"X1\",\n      \"properties\": {\n        \"dtype\": \"number\",\n        \"std\": 0.4127671762970678,\n        \"min\": -0.8759028992601986,\n        \"max\": 0.999896859008525,\n        \"num_unique_values\": 1498,\n        \"samples\": [\n          -0.7730909479772546,\n          0.2743598006980085,\n          0.922987022097416\n        ],\n        \"semantic_type\": \"\",\n        \"description\": \"\"\n      }\n    },\n    {\n      \"column\": \"X2\",\n      \"properties\": {\n        \"dtype\": \"number\",\n        \"std\": 0.4030866493590374,\n        \"min\": -0.926119232653408,\n        \"max\": 0.9155423118121994,\n        \"num_unique_values\": 1498,\n        \"samples\": [\n          0.0265611197601092,\n          0.5213998808788539,\n          0.2637063815113116\n        ],\n        \"semantic_type\": \"\",\n        \"description\": \"\"\n      }\n    },\n    {\n      \"column\": \"color\",\n      \"properties\": {\n        \"dtype\": \"category\",\n        \"num_unique_values\": 3,\n        \"samples\": [\n          \"c1\",\n          \"c3\",\n          \"c2\"\n        ],\n        \"semantic_type\": \"\",\n        \"description\": \"\"\n      }\n    }\n  ]\n}"
            }
          },
          "metadata": {},
          "execution_count": 8
        }
      ]
    },
    {
      "cell_type": "code",
      "metadata": {
        "colab": {
          "base_uri": "https://localhost:8080/"
        },
        "id": "uQ4uWiGciPBS",
        "outputId": "6fc9f966-01a3-41ea-94bb-222176a62866"
      },
      "source": [
        "# Data shapes\n",
        "X = df[['X1', 'X2']].values\n",
        "y = df['color'].values\n",
        "print (\"X: \", np.shape(X))\n",
        "print (\"y: \", np.shape(y))"
      ],
      "execution_count": 9,
      "outputs": [
        {
          "output_type": "stream",
          "name": "stdout",
          "text": [
            "X:  (1500, 2)\n",
            "y:  (1500,)\n"
          ]
        }
      ]
    },
    {
      "cell_type": "code",
      "metadata": {
        "colab": {
          "base_uri": "https://localhost:8080/",
          "height": 452
        },
        "id": "Sm601G5XiPEH",
        "outputId": "d91ddb44-21ef-4ae6-c1be-a7576517f0e0"
      },
      "source": [
        "# Visualize data\n",
        "plt.title(\"Generated non-linear data\")\n",
        "colors = {'c1': 'red', 'c2': 'yellow', 'c3': 'blue'}\n",
        "plt.scatter(X[:, 0], X[:, 1], c=[colors[_y] for _y in y], edgecolors='k', s=25)\n",
        "plt.show()"
      ],
      "execution_count": 10,
      "outputs": [
        {
          "output_type": "display_data",
          "data": {
            "text/plain": [
              "<Figure size 640x480 with 1 Axes>"
            ],
            "image/png": "[encoded data removed]"
          },
          "metadata": {}
        }
      ]
    },
    {
      "cell_type": "markdown",
      "metadata": {
        "id": "0kEIDV2rWkPA"
      },
      "source": [
        "## Split data"
      ]
    },
    {
      "cell_type": "code",
      "metadata": {
        "id": "VNHCAonhWpQL"
      },
      "source": [
        "import collections\n",
        "from sklearn.model_selection import train_test_split"
      ],
      "execution_count": 11,
      "outputs": []
    },
    {
      "cell_type": "code",
      "metadata": {
        "id": "fXVnk18FsaiO"
      },
      "source": [
        "TRAIN_SIZE = 0.7\n",
        "VAL_SIZE = 0.15\n",
        "TEST_SIZE = 0.15"
      ],
      "execution_count": 12,
      "outputs": []
    },
    {
      "cell_type": "code",
      "metadata": {
        "id": "NSffHAoeQmBM"
      },
      "source": [
        "def train_val_test_split(X, y, train_size):\n",
        "    \"\"\"Split dataset into data splits.\"\"\"\n",
        "    X_train, X_, y_train, y_ = train_test_split(X, y, train_size=TRAIN_SIZE, stratify=y)\n",
        "    X_val, X_test, y_val, y_test = train_test_split(X_, y_, train_size=0.5, stratify=y_)\n",
        "    return X_train, X_val, X_test, y_train, y_val, y_test"
      ],
      "execution_count": 13,
      "outputs": []
    },
    {
      "cell_type": "code",
      "metadata": {
        "colab": {
          "base_uri": "https://localhost:8080/"
        },
        "id": "COyhVvqLz2Ze",
        "outputId": "b6b089dc-0dfd-4a02-ad8a-0ca73c359f61"
      },
      "source": [
        "# Create data splits\n",
        "X_train, X_val, X_test, y_train, y_val, y_test = train_val_test_split(\n",
        "    X=X, y=y, train_size=TRAIN_SIZE)\n",
        "print (f\"X_train: {X_train.shape}, y_train: {y_train.shape}\")\n",
        "print (f\"X_val: {X_val.shape}, y_val: {y_val.shape}\")\n",
        "print (f\"X_test: {X_test.shape}, y_test: {y_test.shape}\")\n",
        "print (f\"Sample point: {X_train[0]} → {y_train[0]}\")"
      ],
      "execution_count": 14,
      "outputs": [
        {
          "output_type": "stream",
          "name": "stdout",
          "text": [
            "X_train: (1050, 2), y_train: (1050,)\n",
            "X_val: (225, 2), y_val: (225,)\n",
            "X_test: (225, 2), y_test: (225,)\n",
            "Sample point: [-0.63919105 -0.69724176] → c1\n"
          ]
        }
      ]
    },
    {
      "cell_type": "markdown",
      "metadata": {
        "id": "y8P2N42lZKW2"
      },
      "source": [
        "## LabelEncoder"
      ]
    },
    {
      "cell_type": "markdown",
      "metadata": {
        "id": "b7Qw3ywlrcGp"
      },
      "source": [
        "Next we'll define a `LabelEncoder` to encode our text labels into unique indices. We're not going to use scikit-learn's LabelEncoder anymore because we want to be able to save and load our instances the way we want to."
      ]
    },
    {
      "cell_type": "code",
      "metadata": {
        "id": "GD8gd34w11IA"
      },
      "source": [
        "import itertools"
      ],
      "execution_count": 15,
      "outputs": []
    },
    {
      "cell_type": "code",
      "metadata": {
        "id": "5bYN5NP1ZK0k"
      },
      "source": [
        "class LabelEncoder(object):\n",
        "    \"\"\"Label encoder for tag labels.\"\"\"\n",
        "    def __init__(self, class_to_index={}):\n",
        "        self.class_to_index = class_to_index\n",
        "        self.index_to_class = {v: k for k, v in self.class_to_index.items()}\n",
        "        self.classes = list(self.class_to_index.keys())\n",
        "\n",
        "    def __len__(self):\n",
        "        return len(self.class_to_index)\n",
        "\n",
        "    def __str__(self):\n",
        "        return f\"<LabelEncoder(num_classes={len(self)})>\"\n",
        "\n",
        "    def fit(self, y):\n",
        "        classes = np.unique(y)\n",
        "        for i, class_ in enumerate(classes):\n",
        "            self.class_to_index[class_] = i\n",
        "        self.index_to_class = {v: k for k, v in self.class_to_index.items()}\n",
        "        self.classes = list(self.class_to_index.keys())\n",
        "        return self\n",
        "\n",
        "    def encode(self, y):\n",
        "        encoded = np.zeros((len(y)), dtype=int)\n",
        "        for i, item in enumerate(y):\n",
        "            encoded[i] = self.class_to_index[item]\n",
        "        return encoded\n",
        "\n",
        "    def decode(self, y):\n",
        "        classes = []\n",
        "        for i, item in enumerate(y):\n",
        "            classes.append(self.index_to_class[item])\n",
        "        return classes\n",
        "\n",
        "    def save(self, fp):\n",
        "        with open(fp, 'w') as fp:\n",
        "            contents = {'class_to_index': self.class_to_index}\n",
        "            json.dump(contents, fp, indent=4, sort_keys=False)\n",
        "\n",
        "    @classmethod\n",
        "    def load(cls, fp):\n",
        "        with open(fp, 'r') as fp:\n",
        "            kwargs = json.load(fp=fp)\n",
        "        return cls(**kwargs)"
      ],
      "execution_count": 16,
      "outputs": []
    },
    {
      "cell_type": "code",
      "metadata": {
        "id": "CrWsgug6ZGLs",
        "colab": {
          "base_uri": "https://localhost:8080/"
        },
        "outputId": "f7e03107-7c4f-47bf-8a55-dfc0882c41c8"
      },
      "source": [
        "# Encode\n",
        "label_encoder = LabelEncoder()\n",
        "label_encoder.fit(y_train)\n",
        "label_encoder.class_to_index"
      ],
      "execution_count": 17,
      "outputs": [
        {
          "output_type": "execute_result",
          "data": {
            "text/plain": [
              "{'c1': 0, 'c2': 1, 'c3': 2}"
            ]
          },
          "metadata": {},
          "execution_count": 17
        }
      ]
    },
    {
      "cell_type": "code",
      "metadata": {
        "id": "N8me9sECZZUL",
        "colab": {
          "base_uri": "https://localhost:8080/"
        },
        "outputId": "1ff4855b-0327-4541-b42d-be54d9b0ca46"
      },
      "source": [
        "# Convert labels to tokens\n",
        "print (f\"y_train[0]: {y_train[0]}\")\n",
        "y_train = label_encoder.encode(y_train)\n",
        "y_val = label_encoder.encode(y_val)\n",
        "y_test = label_encoder.encode(y_test)\n",
        "print (f\"y_train[0]: {y_train[0]}\")"
      ],
      "execution_count": 18,
      "outputs": [
        {
          "output_type": "stream",
          "name": "stdout",
          "text": [
            "y_train[0]: c1\n",
            "y_train[0]: 0\n"
          ]
        }
      ]
    },
    {
      "cell_type": "code",
      "metadata": {
        "id": "D3syfG98QSC1",
        "colab": {
          "base_uri": "https://localhost:8080/"
        },
        "outputId": "a1e9e2a8-4155-4909-d284-5def25a731ac"
      },
      "source": [
        "# Class weights\n",
        "counts = np.bincount(y_train)\n",
        "class_weights = {i: 1.0/count for i, count in enumerate(counts)}\n",
        "print (f\"counts: {counts}\\nweights: {class_weights}\")"
      ],
      "execution_count": 19,
      "outputs": [
        {
          "output_type": "stream",
          "name": "stdout",
          "text": [
            "counts: [350 350 350]\n",
            "weights: {0: 0.002857142857142857, 1: 0.002857142857142857, 2: 0.002857142857142857}\n"
          ]
        }
      ]
    },
    {
      "cell_type": "markdown",
      "metadata": {
        "id": "Jm172qNiimaj"
      },
      "source": [
        "## StandardScaler"
      ]
    },
    {
      "cell_type": "markdown",
      "metadata": {
        "id": "-7cOXzFIipy8"
      },
      "source": [
        "We need to standardize our data (zero mean and unit variance) so a specific feature's magnitude doesn't affect how the model learns its weights. We're only going to standardize the inputs X because our outputs y are class values. We're going to compose our own `StandardScaler` class so we have easily save and load it later during inference."
      ]
    },
    {
      "cell_type": "code",
      "metadata": {
        "id": "GydwSYTdXX3D"
      },
      "source": [
        "class StandardScaler(object):\n",
        "    def __init__(self, mean=None, std=None):\n",
        "        self.mean = np.array(mean)\n",
        "        self.std = np.array(std)\n",
        "\n",
        "    def fit(self, X):\n",
        "        self.mean =  np.mean(X_train, axis=0)\n",
        "        self.std = np.std(X_train, axis=0)\n",
        "\n",
        "    def scale(self, X):\n",
        "        return (X - self.mean) / self.std\n",
        "\n",
        "    def unscale(self, X):\n",
        "        return (X * self.std) + self.mean\n",
        "\n",
        "    def save(self, fp):\n",
        "        with open(fp, 'w') as fp:\n",
        "            contents = {'mean': self.mean.tolist(), 'std': self.std.tolist()}\n",
        "            json.dump(contents, fp, indent=4, sort_keys=False)\n",
        "\n",
        "    @classmethod\n",
        "    def load(cls, fp):\n",
        "        with open(fp, 'r') as fp:\n",
        "            kwargs = json.load(fp=fp)\n",
        "        return cls(**kwargs)"
      ],
      "execution_count": 20,
      "outputs": []
    },
    {
      "cell_type": "code",
      "metadata": {
        "id": "Xc9cETrtiqkm"
      },
      "source": [
        "# Standardize the data (mean=0, std=1) using training data\n",
        "X_scaler = StandardScaler()\n",
        "X_scaler.fit(X_train)"
      ],
      "execution_count": 21,
      "outputs": []
    },
    {
      "cell_type": "code",
      "metadata": {
        "id": "gQRt0ckuiqnp"
      },
      "source": [
        "# Apply scaler on training and test data (don't standardize outputs for classification)\n",
        "X_train = X_scaler.scale(X_train)\n",
        "X_val = X_scaler.scale(X_val)\n",
        "X_test = X_scaler.scale(X_test)"
      ],
      "execution_count": 22,
      "outputs": []
    },
    {
      "cell_type": "code",
      "metadata": {
        "colab": {
          "base_uri": "https://localhost:8080/"
        },
        "id": "GL7etRWritue",
        "outputId": "5d95e176-f594-479a-852c-38cf81039e40"
      },
      "source": [
        "# Check (means should be ~0 and std should be ~1)\n",
        "print (f\"X_test[0]: mean: {np.mean(X_test[:, 0], axis=0):.1f}, std: {np.std(X_test[:, 0], axis=0):.1f}\")\n",
        "print (f\"X_test[1]: mean: {np.mean(X_test[:, 1], axis=0):.1f}, std: {np.std(X_test[:, 1], axis=0):.1f}\")"
      ],
      "execution_count": 23,
      "outputs": [
        {
          "output_type": "stream",
          "name": "stdout",
          "text": [
            "X_test[0]: mean: 0.1, std: 0.9\n",
            "X_test[1]: mean: 0.0, std: 1.0\n"
          ]
        }
      ]
    },
    {
      "cell_type": "markdown",
      "metadata": {
        "id": "XwZmG3ZDCDdz"
      },
      "source": [
        "# DataLoader"
      ]
    },
    {
      "cell_type": "markdown",
      "metadata": {
        "id": "lPIWpCsmCal3"
      },
      "source": [
        "We're going to place our data into a [`Dataset`](https://pytorch.org/docs/stable/data.html#torch.utils.data.Dataset) and use a [`DataLoader`](https://pytorch.org/docs/stable/data.html#torch.utils.data.DataLoader) to efficiently create batches for training and evaluation."
      ]
    },
    {
      "cell_type": "code",
      "metadata": {
        "id": "UBsI7_0gS8CV"
      },
      "source": [
        "import torch"
      ],
      "execution_count": 24,
      "outputs": []
    },
    {
      "cell_type": "code",
      "metadata": {
        "colab": {
          "base_uri": "https://localhost:8080/"
        },
        "id": "MPUviMfhS8FG",
        "outputId": "01ab2137-2eb9-42d7-cfbe-0a21e72e58c8"
      },
      "source": [
        "# Seed seed for reproducibility\n",
        "torch.manual_seed(SEED)"
      ],
      "execution_count": 25,
      "outputs": [
        {
          "output_type": "execute_result",
          "data": {
            "text/plain": [
              "<torch._C.Generator at 0x7b5043d23090>"
            ]
          },
          "metadata": {},
          "execution_count": 25
        }
      ]
    },
    {
      "cell_type": "code",
      "metadata": {
        "id": "fK7laA88Cas1"
      },
      "source": [
        "class Dataset(torch.utils.data.Dataset):\n",
        "    def __init__(self, X, y):\n",
        "        self.X = X\n",
        "        self.y = y\n",
        "\n",
        "    def __len__(self):\n",
        "        return len(self.y)\n",
        "\n",
        "    def __str__(self):\n",
        "        return f\"<Dataset(N={len(self)})>\"\n",
        "\n",
        "    def __getitem__(self, index):\n",
        "        X = self.X[index]\n",
        "        y = self.y[index]\n",
        "        return [X, y]\n",
        "\n",
        "    # def collate_fn(self, batch):\n",
        "    #     \"\"\"Processing on a batch.\"\"\"\n",
        "    #     # Get inputs\n",
        "    #     batch = np.array(batch, dtype=object)\n",
        "    #     X = batch[:, 0]\n",
        "    #     y = np.stack(batch[:, 1], axis=0)\n",
        "\n",
        "    #     # Cast\n",
        "    #     X = torch.FloatTensor(X.astype(np.float32))\n",
        "    #     y = torch.LongTensor(y.astype(np.int32))\n",
        "\n",
        "    #     return X, y\n",
        "\n",
        "    def collate_fn(self, batch):\n",
        "        \"\"\"Processing on a batch.\"\"\"\n",
        "        # Get inputs\n",
        "        batch = np.array(batch, dtype=object)\n",
        "        X = np.stack([sample[0] for sample in batch], axis=0)\n",
        "        y = np.stack([sample[1] for sample in batch], axis=0)\n",
        "\n",
        "        # Cast\n",
        "        X = torch.FloatTensor(X.astype(np.float32))\n",
        "        y = torch.LongTensor(y.astype(np.int32))\n",
        "\n",
        "        return X, y\n",
        "\n",
        "    def create_dataloader(self, batch_size, shuffle=False, drop_last=False):\n",
        "        return torch.utils.data.DataLoader(\n",
        "            dataset=self, batch_size=batch_size, collate_fn=self.collate_fn,\n",
        "            shuffle=shuffle, drop_last=drop_last, pin_memory=True)"
      ],
      "execution_count": 30,
      "outputs": []
    },
    {
      "cell_type": "markdown",
      "metadata": {
        "id": "-ZK1uK9GmyP1"
      },
      "source": [
        "We don't really need the `collate_fn` here but we wanted to make it transparent because we will need it when we want to do specific processing on our batch (ex. padding). We'll be using a custom collate function in the next lesson."
      ]
    },
    {
      "cell_type": "code",
      "metadata": {
        "colab": {
          "base_uri": "https://localhost:8080/"
        },
        "id": "bb835L2XCavW",
        "outputId": "14d09c1a-da92-4582-8074-4bf40084780a"
      },
      "source": [
        "# Create datasets\n",
        "train_dataset = Dataset(X=X_train, y=y_train)\n",
        "val_dataset = Dataset(X=X_val, y=y_val)\n",
        "test_dataset = Dataset(X=X_test, y=y_test)\n",
        "print (\"Datasets:\\n\"\n",
        "    f\"  Train dataset:{train_dataset.__str__()}\\n\"\n",
        "    f\"  Val dataset: {val_dataset.__str__()}\\n\"\n",
        "    f\"  Test dataset: {test_dataset.__str__()}\\n\"\n",
        "    \"Sample point:\\n\"\n",
        "    f\"  X: {train_dataset[0][0]}\\n\"\n",
        "    f\"  y: {train_dataset[0][1]}\")"
      ],
      "execution_count": 31,
      "outputs": [
        {
          "output_type": "stream",
          "name": "stdout",
          "text": [
            "Datasets:\n",
            "  Train dataset:<Dataset(N=1050)>\n",
            "  Val dataset: <Dataset(N=225)>\n",
            "  Test dataset: <Dataset(N=225)>\n",
            "Sample point:\n",
            "  X: [-1.47355106 -1.67417243]\n",
            "  y: 0\n"
          ]
        }
      ]
    },
    {
      "cell_type": "markdown",
      "metadata": {
        "id": "Lv5_9eFooNfY"
      },
      "source": [
        "So far, we used batch gradient descent to update our weights. This means that we calculated the gradients using the entire training dataset. We also could've updated our weights using stochastic gradient descent (SGD) where we pass in one training example one at a time. The current standard is mini-batch gradient descent, which strikes a balance between batch and stochastic GD, where we update the weights using a mini-batch of n (`BATCH_SIZE`) samples. This is where the `DataLoader` object comes in handy."
      ]
    },
    {
      "cell_type": "code",
      "source": [
        "# # Set batch size\n",
        "# batch_size = 64\n",
        "\n",
        "# # Create dataloaders for training, validation, and test sets\n",
        "# train_dataloader = train_dataset.create_dataloader(batch_size=batch_size)\n",
        "# val_dataloader = val_dataset.create_dataloader(batch_size=batch_size)\n",
        "# test_dataloader = test_dataset.create_dataloader(batch_size=batch_size)\n",
        "\n",
        "# # Get a sample batch\n",
        "# batch_X, batch_y = next(iter(train_dataloader))\n",
        "\n",
        "# # Print information about the sample batch\n",
        "# print(\"Sample batch:\\n\"\n",
        "#       f\"  X: {list(batch_X.size())}\\n\"  # Print the shape of the batch\n",
        "#       f\"  y: {list(batch_y.size())}\\n\"\n",
        "#       \"Sample point:\\n\"\n",
        "#       f\"  X: {batch_X[0]}  # Access the first element of the converted batch_X\\n\"\n",
        "#       f\"  y: {batch_y[0]}\")\n",
        "\n",
        "# # Convert the entire batch to PyTorch tensors (optional, depending on your model)\n",
        "# batch_X = torch.FloatTensor(batch_X.astype(np.float32))  # Convert to float32 tensor\n",
        "# batch_y = torch.LongTensor(batch_y)  # Convert to long tensor (assuming integer labels)"
      ],
      "metadata": {
        "id": "MRxoqTCCX7jA"
      },
      "execution_count": null,
      "outputs": []
    },
    {
      "cell_type": "code",
      "metadata": {
        "colab": {
          "base_uri": "https://localhost:8080/"
        },
        "id": "qQI7OLYDWvhP",
        "outputId": "47e188e9-045b-4295-9aa6-3cc3bfd51fec"
      },
      "source": [
        "# Create dataloaders\n",
        "# batch_size = 64\n",
        "# train_dataloader = train_dataset.create_dataloader(batch_size=batch_size)\n",
        "# val_dataloader = val_dataset.create_dataloader(batch_size=batch_size)\n",
        "# test_dataloader = test_dataset.create_dataloader(batch_size=batch_size)\n",
        "# print(f\"train_dataloader: {train_dataloader}\")\n",
        "# batch_X, batch_y = next(iter(train_dataloader))\n",
        "# print (\"Sample batch:\\n\"\n",
        "#     f\"  X: {list(batch_X.size())}\\n\"\n",
        "#     f\"  y: {list(batch_y.size())}\\n\"\n",
        "#     \"Sample point:\\n\"\n",
        "#     f\"  X: {batch_X[0]}\\n\"\n",
        "#     f\"  y: {batch_y[0]}\")"
      ],
      "execution_count": 32,
      "outputs": [
        {
          "output_type": "stream",
          "name": "stdout",
          "text": [
            "train_dataloader: <torch.utils.data.dataloader.DataLoader object at 0x7b4f6f917c70>\n",
            "Sample batch:\n",
            "  X: [64, 2]\n",
            "  y: [64]\n",
            "Sample point:\n",
            "  X: tensor([-1.4736, -1.6742], device='cpu')\n",
            "  y: 0\n"
          ]
        }
      ]
    },
    {
      "cell_type": "code",
      "source": [
        "# Create dataloaders\n",
        "batch_size = 64\n",
        "train_dataloader = train_dataset.create_dataloader(batch_size=batch_size)\n",
        "val_dataloader = val_dataset.create_dataloader(batch_size=batch_size)\n",
        "test_dataloader = test_dataset.create_dataloader(batch_size=batch_size)\n",
        "\n",
        "# Get a sample batch\n",
        "batch_X, batch_y = next(iter(train_dataloader))\n",
        "\n",
        "# Print sample batch sizes\n",
        "print(\"Sample batch:\\n\"\n",
        "      f\"  X: {list(batch_X.size())}\\n\"\n",
        "      f\"  y: {list(batch_y.size())}\\n\")\n",
        "\n",
        "# Print sample point\n",
        "sample_X = batch_X[0]\n",
        "sample_y = batch_y[0]\n",
        "print(\"Sample point:\\n\"\n",
        "      f\"  X: {sample_X}\\n\"\n",
        "      f\"  y: {sample_y}\")"
      ],
      "metadata": {
        "colab": {
          "base_uri": "https://localhost:8080/"
        },
        "id": "sRWL-iYYuqAU",
        "outputId": "6a1ac0a0-252c-4c53-cfbc-7528c99fe802"
      },
      "execution_count": 33,
      "outputs": [
        {
          "output_type": "stream",
          "name": "stdout",
          "text": [
            "Sample batch:\n",
            "  X: [64, 2]\n",
            "  y: [64]\n",
            "\n",
            "Sample point:\n",
            "  X: tensor([-1.4736, -1.6742], device='cpu')\n",
            "  y: 0\n"
          ]
        }
      ]
    },
    {
      "cell_type": "markdown",
      "metadata": {
        "id": "4yOIyrd3CbpZ"
      },
      "source": [
        "# Device"
      ]
    },
    {
      "cell_type": "markdown",
      "metadata": {
        "id": "Z70PtllpCfak"
      },
      "source": [
        "So far we've been running our operations on the CPU but when we have large datasets and larger models to train, we can benefit by parallelzing tensor operations on a GPU. In this notebook, you can use a GPU by going to `Runtime` > `Change runtime type` > Select `GPU` in the `Hardware accelerator` dropdown. We can what device we're using with the following line of code:"
      ]
    },
    {
      "cell_type": "code",
      "metadata": {
        "id": "335nEZlJbcda"
      },
      "source": [
        "# Set CUDA seeds\n",
        "torch.cuda.manual_seed(SEED)\n",
        "torch.cuda.manual_seed_all(SEED) # multi-GPU"
      ],
      "execution_count": 34,
      "outputs": []
    },
    {
      "cell_type": "code",
      "metadata": {
        "colab": {
          "base_uri": "https://localhost:8080/"
        },
        "id": "rE9BJAyxCfe4",
        "outputId": "3fd66115-755e-488b-8e38-3b587918f299"
      },
      "source": [
        "# Set device\n",
        "cuda = True\n",
        "device = torch.device('cuda' if (\n",
        "    torch.cuda.is_available() and cuda) else 'cpu')\n",
        "torch.set_default_tensor_type('torch.FloatTensor')\n",
        "if device.type == 'cuda':\n",
        "    torch.set_default_tensor_type('torch.cuda.FloatTensor')\n",
        "print (device)"
      ],
      "execution_count": 35,
      "outputs": [
        {
          "output_type": "stream",
          "name": "stdout",
          "text": [
            "cuda\n"
          ]
        }
      ]
    },
    {
      "cell_type": "markdown",
      "metadata": {
        "id": "3NWFcZnMCf6N"
      },
      "source": [
        "# Model"
      ]
    },
    {
      "cell_type": "markdown",
      "metadata": {
        "id": "tAASSRx5ChMn"
      },
      "source": [
        "Let's initialize the model we'll be using to show the capabilities of training utilities."
      ]
    },
    {
      "cell_type": "code",
      "metadata": {
        "id": "o_89ZatDChRt"
      },
      "source": [
        "import math\n",
        "from torch import nn\n",
        "import torch.nn.functional as F"
      ],
      "execution_count": 36,
      "outputs": []
    },
    {
      "cell_type": "code",
      "metadata": {
        "id": "4KpTkA1_ChUI"
      },
      "source": [
        "INPUT_DIM = X_train.shape[1] # 2D\n",
        "HIDDEN_DIM = 100\n",
        "DROPOUT_P = 0.1\n",
        "NUM_CLASSES = len(label_encoder.classes)\n",
        "NUM_EPOCHS = 10"
      ],
      "execution_count": 37,
      "outputs": []
    },
    {
      "cell_type": "code",
      "metadata": {
        "id": "wKfNogAAChWp"
      },
      "source": [
        "class MLP(nn.Module):\n",
        "    def __init__(self, input_dim, hidden_dim, dropout_p, num_classes):\n",
        "        super(MLP, self).__init__()\n",
        "        self.fc1 = nn.Linear(input_dim, hidden_dim)\n",
        "        self.dropout = nn.Dropout(dropout_p)\n",
        "        self.fc2 = nn.Linear(hidden_dim, num_classes)\n",
        "\n",
        "    def forward(self, inputs, apply_softmax=False):\n",
        "        x_in, = inputs\n",
        "        z = F.relu(self.fc1(x_in))\n",
        "        z = self.dropout(z)\n",
        "        y_pred = self.fc2(z)\n",
        "        if apply_softmax:\n",
        "            y_pred = F.softmax(y_pred, dim=1)\n",
        "        return y_pred"
      ],
      "execution_count": 38,
      "outputs": []
    },
    {
      "cell_type": "code",
      "metadata": {
        "colab": {
          "base_uri": "https://localhost:8080/"
        },
        "id": "HBLos7GmCjim",
        "outputId": "1db9613f-be6d-4b2b-96bf-5c04a68bc0c4"
      },
      "source": [
        "# Initialize model\n",
        "model = MLP(\n",
        "    input_dim=INPUT_DIM, hidden_dim=HIDDEN_DIM,\n",
        "    dropout_p=DROPOUT_P, num_classes=NUM_CLASSES)\n",
        "model = model.to(device) # set device\n",
        "print (model.named_parameters)"
      ],
      "execution_count": 39,
      "outputs": [
        {
          "output_type": "stream",
          "name": "stdout",
          "text": [
            "<bound method Module.named_parameters of MLP(\n",
            "  (fc1): Linear(in_features=2, out_features=100, bias=True)\n",
            "  (dropout): Dropout(p=0.1, inplace=False)\n",
            "  (fc2): Linear(in_features=100, out_features=3, bias=True)\n",
            ")>\n"
          ]
        }
      ]
    },
    {
      "cell_type": "markdown",
      "metadata": {
        "id": "Ta8VwFtHCyxB"
      },
      "source": [
        "# Trainer"
      ]
    },
    {
      "cell_type": "markdown",
      "metadata": {
        "id": "rz8oRlBsCqmV"
      },
      "source": [
        "So far we've been writing training loops that train only using the train data split and then we perform evaluation on our test set. But in reality, we would follow this process:\n",
        "\n",
        "1. Train using mini-batches on one epoch of the train data split.\n",
        "2. Evaluate loss on the validation split and use it to adjust hyperparameters (ex. learning rate).\n",
        "3. After training ends (via stagnation in improvements, desired performance, etc.), evaluate your trained model on the test (hold-out) data split.\n",
        "\n",
        "We'll create a `Trainer` class to keep all of these processes organized."
      ]
    },
    {
      "cell_type": "markdown",
      "metadata": {
        "id": "sRxiuswlcOTQ"
      },
      "source": [
        "The first function in the class is `train_step` which will train the model using batches from one epoch of the train data split.\n",
        "\n",
        "```python\n",
        "def train_step(self, dataloader):\n",
        "    \"\"\"Train step.\"\"\"\n",
        "    # Set model to train mode\n",
        "    self.model.train()\n",
        "    loss = 0.0\n",
        "\n",
        "    # Iterate over train batches\n",
        "    for i, batch in enumerate(dataloader):\n",
        "\n",
        "        # Step\n",
        "        batch = [item.to(self.device) for item in batch]  # Set device\n",
        "        inputs, targets = batch[:-1], batch[-1]\n",
        "        self.optimizer.zero_grad()  # Reset gradients\n",
        "        z = self.model(inputs)  # Forward pass\n",
        "        J = self.loss_fn(z, targets)  # Define loss\n",
        "        J.backward()  # Backward pass\n",
        "        self.optimizer.step()  # Update weights\n",
        "\n",
        "        # Cumulative Metrics\n",
        "        loss += (J.detach().item() - loss) / (i + 1)\n",
        "\n",
        "    return loss\n",
        "```"
      ]
    },
    {
      "cell_type": "markdown",
      "metadata": {
        "id": "G6aiXVzscISY"
      },
      "source": [
        "Next we'll define the `eval_step` which will be used for processing both the validation and test data splits. This is because neither of them require gradient updates and display the same metrics.\n",
        "\n",
        "```python\n",
        "def eval_step(self, dataloader):\n",
        "    \"\"\"Validation or test step.\"\"\"\n",
        "    # Set model to eval mode\n",
        "    self.model.eval()\n",
        "    loss = 0.0\n",
        "    y_trues, y_probs = [], []\n",
        "\n",
        "    # Iterate over val batches\n",
        "    with torch.no_grad():\n",
        "        for i, batch in enumerate(dataloader):\n",
        "\n",
        "            # Step\n",
        "            batch = [item.to(self.device) for item in batch]  # Set device\n",
        "            inputs, y_true = batch[:-1], batch[-1]\n",
        "            z = self.model(inputs)  # Forward pass\n",
        "            J = self.loss_fn(z, y_true).item()\n",
        "\n",
        "            # Cumulative Metrics\n",
        "            loss += (J - loss) / (i + 1)\n",
        "\n",
        "            # Store outputs\n",
        "            y_prob = torch.sigmoid(z).cpu().numpy()\n",
        "            y_probs.extend(y_prob)\n",
        "            y_trues.extend(y_true.cpu().numpy())\n",
        "\n",
        "    return loss, np.vstack(y_trues), np.vstack(y_probs)\n",
        "```"
      ]
    },
    {
      "cell_type": "markdown",
      "metadata": {
        "id": "6RNrt41-cIZy"
      },
      "source": [
        "The final function is the `predict_step` which will be used for inference. It's fairly similar to the `eval_step` except we don't calculate any metrics. We pass on the predictions which we can use to generate our performance report.\n",
        "\n",
        "```python\n",
        "def predict_step(self, dataloader):\n",
        "    \"\"\"Prediction step.\"\"\"\n",
        "    # Set model to eval mode\n",
        "    self.model.eval()\n",
        "    y_probs = []\n",
        "\n",
        "    # Iterate over val batches\n",
        "    with torch.no_grad():\n",
        "        for i, batch in enumerate(dataloader):\n",
        "\n",
        "            # Forward pass w/ inputs\n",
        "            inputs, targets = batch[:-1], batch[-1]\n",
        "            y_prob = self.model(inputs, apply_softmax=True)\n",
        "\n",
        "            # Store outputs\n",
        "            y_probs.extend(y_prob)\n",
        "\n",
        "    return np.vstack(y_probs)\n",
        "```"
      ]
    },
    {
      "cell_type": "markdown",
      "metadata": {
        "id": "3IFLbT_vCjtB"
      },
      "source": [
        "# LR Scheduler"
      ]
    },
    {
      "cell_type": "markdown",
      "metadata": {
        "id": "r03ot_PfClKZ"
      },
      "source": [
        "As our model starts to optimize and perform better, the loss will reduce and we'll need to make smaller adjustments. If we keep using a fixed learning rate, we'll be overshooting back and forth. Therefore, we're going to add a learning rate scheduler to our optimizer to adjust our learning rate during training. There are many [schedulers](https://pytorch.org/docs/stable/optim.html#how-to-adjust-learning-rate) schedulers to choose from but a popular one is `ReduceLROnPlateau` which reduces the learning rate when a metric (ex. validation loss) stops improving. In the example below we'll reduce the learning rate by a factor of 0.1 (`factor=0.1`) when our metric of interest (`self.scheduler.step(val_loss)`) stops decreasing (`mode='min'`) for three (`patience=3`) straight epochs."
      ]
    },
    {
      "cell_type": "markdown",
      "metadata": {
        "id": "b3GOyMx9q2ED"
      },
      "source": [
        "```python\n",
        "# Initialize the LR scheduler\n",
        "scheduler = torch.optim.lr_scheduler.ReduceLROnPlateau(\n",
        "    optimizer, mode='min', factor=0.1, patience=3)\n",
        "...\n",
        "train_loop():\n",
        "    ...\n",
        "    # Steps\n",
        "    train_loss = trainer.train_step(dataloader=train_dataloader)\n",
        "    val_loss, _, _ = trainer.eval_step(dataloader=val_dataloader)\n",
        "    self.scheduler.step(val_loss)\n",
        "    ...\n",
        "```"
      ]
    },
    {
      "cell_type": "markdown",
      "metadata": {
        "id": "9ERZO8YSCsuN"
      },
      "source": [
        "# Early Stopping"
      ]
    },
    {
      "cell_type": "markdown",
      "metadata": {
        "id": "cxZZr0_2Cu1W"
      },
      "source": [
        "We should never train our models for an arbitrary number of epochs but instead we should have explicit stopping criteria (even if you are bootstrapped by compute resources). Common stopping criteria include when validation performance stagnates for certain # of epochs (`patience`), desired performance is reached, etc."
      ]
    },
    {
      "cell_type": "markdown",
      "metadata": {
        "id": "lLgLQjJlssN-"
      },
      "source": [
        "```python\n",
        "# Early stopping\n",
        "if val_loss < best_val_loss:\n",
        "    best_val_loss = val_loss\n",
        "    best_model = trainer.model\n",
        "    _patience = patience  # reset _patience\n",
        "else:\n",
        "    _patience -= 1\n",
        "if not _patience:  # 0\n",
        "    print(\"Stopping early!\")\n",
        "    break\n",
        "```"
      ]
    },
    {
      "cell_type": "markdown",
      "metadata": {
        "id": "zOu2HFo1svkj"
      },
      "source": [
        "# Training"
      ]
    },
    {
      "cell_type": "markdown",
      "metadata": {
        "id": "kIptNMAAsxP8"
      },
      "source": [
        "Let's put all of this together now to train our model."
      ]
    },
    {
      "cell_type": "code",
      "metadata": {
        "id": "8fQCkJkDs5kC"
      },
      "source": [
        "from torch.optim import Adam"
      ],
      "execution_count": 40,
      "outputs": []
    },
    {
      "cell_type": "code",
      "metadata": {
        "id": "m2dbieqks5mv"
      },
      "source": [
        "LEARNING_RATE = 1e-2\n",
        "NUM_EPOCHS = 100\n",
        "PATIENCE = 3"
      ],
      "execution_count": 41,
      "outputs": []
    },
    {
      "cell_type": "code",
      "metadata": {
        "id": "0sU9D4-qs5sD"
      },
      "source": [
        "# Define Loss\n",
        "class_weights_tensor = torch.Tensor(list(class_weights.values())).to(device)\n",
        "loss_fn = nn.CrossEntropyLoss(weight=class_weights_tensor)"
      ],
      "execution_count": 46,
      "outputs": []
    },
    {
      "cell_type": "code",
      "metadata": {
        "id": "SVB9PlTos-iZ"
      },
      "source": [
        "# Define optimizer & scheduler\n",
        "optimizer = Adam(model.parameters(), lr=LEARNING_RATE)\n",
        "scheduler = torch.optim.lr_scheduler.ReduceLROnPlateau(\n",
        "    optimizer, mode='min', factor=0.1, patience=3)"
      ],
      "execution_count": 47,
      "outputs": []
    },
    {
      "cell_type": "code",
      "metadata": {
        "id": "2O0_Uk1tcE6s"
      },
      "source": [
        "class Trainer(object):\n",
        "    def __init__(self, model, device, loss_fn=None, optimizer=None, scheduler=None):\n",
        "\n",
        "        # Set params\n",
        "        self.model = model\n",
        "        self.device = device\n",
        "        self.loss_fn = loss_fn\n",
        "        self.optimizer = optimizer\n",
        "        self.scheduler = scheduler\n",
        "\n",
        "    def train_step(self, dataloader):\n",
        "        \"\"\"Train step.\"\"\"\n",
        "        # Set model to train mode\n",
        "        self.model.train()\n",
        "        loss = 0.0\n",
        "\n",
        "        # Iterate over train batches\n",
        "        for i, batch in enumerate(dataloader):\n",
        "\n",
        "            # Step\n",
        "            batch = [item.to(self.device) for item in batch]  # Set device\n",
        "            inputs, targets = batch[:-1], batch[-1]\n",
        "            self.optimizer.zero_grad()  # Reset gradients\n",
        "            z = self.model(inputs)  # Forward pass\n",
        "            J = self.loss_fn(z, targets)  # Define loss\n",
        "            J.backward()  # Backward pass\n",
        "            self.optimizer.step()  # Update weights\n",
        "\n",
        "            # Cumulative Metrics\n",
        "            loss += (J.detach().item() - loss) / (i + 1)\n",
        "\n",
        "        return loss\n",
        "\n",
        "    def eval_step(self, dataloader):\n",
        "        \"\"\"Validation or test step.\"\"\"\n",
        "        # Set model to eval mode\n",
        "        self.model.eval()\n",
        "        loss = 0.0\n",
        "        y_trues, y_probs = [], []\n",
        "\n",
        "        # Iterate over val batches\n",
        "        with torch.no_grad():\n",
        "            for i, batch in enumerate(dataloader):\n",
        "\n",
        "                # Step\n",
        "                batch = [item.to(self.device) for item in batch]  # Set device\n",
        "                inputs, y_true = batch[:-1], batch[-1]\n",
        "                z = self.model(inputs)  # Forward pass\n",
        "                J = self.loss_fn(z, y_true).item()\n",
        "\n",
        "                # Cumulative Metrics\n",
        "                loss += (J - loss) / (i + 1)\n",
        "\n",
        "                # Store outputs\n",
        "                y_prob = torch.sigmoid(z).cpu().numpy()\n",
        "                y_probs.extend(y_prob)\n",
        "                y_trues.extend(y_true.cpu().numpy())\n",
        "\n",
        "        return loss, np.vstack(y_trues), np.vstack(y_probs)\n",
        "\n",
        "    def predict_step(self, dataloader):\n",
        "        \"\"\"Prediction step.\"\"\"\n",
        "        # Set model to eval mode\n",
        "        self.model.eval()\n",
        "        y_probs = []\n",
        "\n",
        "        # Iterate over val batches\n",
        "        with torch.no_grad():\n",
        "            for i, batch in enumerate(dataloader):\n",
        "\n",
        "                # Forward pass w/ inputs\n",
        "                inputs, targets = batch[:-1], batch[-1]\n",
        "                y_prob = self.model(inputs, apply_softmax=True)\n",
        "\n",
        "                # Store outputs\n",
        "                y_probs.extend(y_prob)\n",
        "\n",
        "        return np.vstack(y_probs)\n",
        "\n",
        "    def train(self, num_epochs, patience, train_dataloader, val_dataloader):\n",
        "        best_val_loss = np.inf\n",
        "        for epoch in range(num_epochs):\n",
        "            # Steps\n",
        "            train_loss = self.train_step(dataloader=train_dataloader)\n",
        "            val_loss, _, _ = self.eval_step(dataloader=val_dataloader)\n",
        "            self.scheduler.step(val_loss)\n",
        "\n",
        "            # Early stopping\n",
        "            if val_loss < best_val_loss:\n",
        "                best_val_loss = val_loss\n",
        "                best_model = self.model\n",
        "                _patience = patience  # reset _patience\n",
        "            else:\n",
        "                _patience -= 1\n",
        "            if not _patience:  # 0\n",
        "                print(\"Stopping early!\")\n",
        "                break\n",
        "\n",
        "            # Logging\n",
        "            print(\n",
        "                f\"Epoch: {epoch+1} | \"\n",
        "                f\"train_loss: {train_loss:.5f}, \"\n",
        "                f\"val_loss: {val_loss:.5f}, \"\n",
        "                f\"lr: {self.optimizer.param_groups[0]['lr']:.2E}, \"\n",
        "                f\"_patience: {_patience}\"\n",
        "            )\n",
        "        return best_model"
      ],
      "execution_count": 48,
      "outputs": []
    },
    {
      "cell_type": "code",
      "metadata": {
        "id": "ieWtfxfis5ug"
      },
      "source": [
        "# Trainer module\n",
        "trainer = Trainer(\n",
        "    model=model, device=device, loss_fn=loss_fn,\n",
        "    optimizer=optimizer, scheduler=scheduler)"
      ],
      "execution_count": 49,
      "outputs": []
    },
    {
      "cell_type": "code",
      "metadata": {
        "colab": {
          "base_uri": "https://localhost:8080/"
        },
        "id": "zuOVOqfjsxVH",
        "outputId": "6c3b4479-5480-4d57-8f99-8ef27b17d5b2"
      },
      "source": [
        "# Train\n",
        "best_model = trainer.train(\n",
        "    NUM_EPOCHS, PATIENCE, train_dataloader, val_dataloader)"
      ],
      "execution_count": 50,
      "outputs": [
        {
          "output_type": "stream",
          "name": "stdout",
          "text": [
            "Epoch: 1 | train_loss: 0.74214, val_loss: 0.56584, lr: 1.00E-02, _patience: 3\n",
            "Epoch: 2 | train_loss: 0.51425, val_loss: 0.38513, lr: 1.00E-02, _patience: 3\n",
            "Epoch: 3 | train_loss: 0.37197, val_loss: 0.26515, lr: 1.00E-02, _patience: 3\n",
            "Epoch: 4 | train_loss: 0.27644, val_loss: 0.19087, lr: 1.00E-02, _patience: 3\n",
            "Epoch: 5 | train_loss: 0.22318, val_loss: 0.14943, lr: 1.00E-02, _patience: 3\n",
            "Epoch: 6 | train_loss: 0.19188, val_loss: 0.12307, lr: 1.00E-02, _patience: 3\n",
            "Epoch: 7 | train_loss: 0.16153, val_loss: 0.10321, lr: 1.00E-02, _patience: 3\n",
            "Epoch: 8 | train_loss: 0.14189, val_loss: 0.08976, lr: 1.00E-02, _patience: 3\n",
            "Epoch: 9 | train_loss: 0.12296, val_loss: 0.07845, lr: 1.00E-02, _patience: 3\n",
            "Epoch: 10 | train_loss: 0.12633, val_loss: 0.07247, lr: 1.00E-02, _patience: 3\n",
            "Epoch: 11 | train_loss: 0.10988, val_loss: 0.06872, lr: 1.00E-02, _patience: 3\n",
            "Epoch: 12 | train_loss: 0.10637, val_loss: 0.06127, lr: 1.00E-02, _patience: 3\n",
            "Epoch: 13 | train_loss: 0.09635, val_loss: 0.05457, lr: 1.00E-02, _patience: 3\n",
            "Epoch: 14 | train_loss: 0.09816, val_loss: 0.05400, lr: 1.00E-02, _patience: 3\n",
            "Epoch: 15 | train_loss: 0.09831, val_loss: 0.04925, lr: 1.00E-02, _patience: 3\n",
            "Epoch: 16 | train_loss: 0.08414, val_loss: 0.04690, lr: 1.00E-02, _patience: 3\n",
            "Epoch: 17 | train_loss: 0.08101, val_loss: 0.04586, lr: 1.00E-02, _patience: 3\n",
            "Epoch: 18 | train_loss: 0.07731, val_loss: 0.04222, lr: 1.00E-02, _patience: 3\n",
            "Epoch: 19 | train_loss: 0.07129, val_loss: 0.03922, lr: 1.00E-02, _patience: 3\n",
            "Epoch: 20 | train_loss: 0.06582, val_loss: 0.03844, lr: 1.00E-02, _patience: 3\n",
            "Epoch: 21 | train_loss: 0.06652, val_loss: 0.03725, lr: 1.00E-02, _patience: 3\n",
            "Epoch: 22 | train_loss: 0.06639, val_loss: 0.03515, lr: 1.00E-02, _patience: 3\n",
            "Epoch: 23 | train_loss: 0.06220, val_loss: 0.03336, lr: 1.00E-02, _patience: 3\n",
            "Epoch: 24 | train_loss: 0.05573, val_loss: 0.03157, lr: 1.00E-02, _patience: 3\n",
            "Epoch: 25 | train_loss: 0.07686, val_loss: 0.03146, lr: 1.00E-02, _patience: 3\n",
            "Epoch: 26 | train_loss: 0.06261, val_loss: 0.03105, lr: 1.00E-02, _patience: 3\n",
            "Epoch: 27 | train_loss: 0.05463, val_loss: 0.03050, lr: 1.00E-02, _patience: 3\n",
            "Epoch: 28 | train_loss: 0.05655, val_loss: 0.02809, lr: 1.00E-02, _patience: 3\n",
            "Epoch: 29 | train_loss: 0.05328, val_loss: 0.02856, lr: 1.00E-02, _patience: 2\n",
            "Epoch: 30 | train_loss: 0.05420, val_loss: 0.02767, lr: 1.00E-02, _patience: 3\n",
            "Epoch: 31 | train_loss: 0.04955, val_loss: 0.02573, lr: 1.00E-02, _patience: 3\n",
            "Epoch: 32 | train_loss: 0.05324, val_loss: 0.02767, lr: 1.00E-02, _patience: 2\n",
            "Epoch: 33 | train_loss: 0.06240, val_loss: 0.02596, lr: 1.00E-02, _patience: 1\n",
            "Epoch: 34 | train_loss: 0.04769, val_loss: 0.02443, lr: 1.00E-02, _patience: 3\n",
            "Epoch: 35 | train_loss: 0.04494, val_loss: 0.02386, lr: 1.00E-02, _patience: 3\n",
            "Epoch: 36 | train_loss: 0.04350, val_loss: 0.02388, lr: 1.00E-02, _patience: 2\n",
            "Epoch: 37 | train_loss: 0.04683, val_loss: 0.02306, lr: 1.00E-02, _patience: 3\n",
            "Epoch: 38 | train_loss: 0.05141, val_loss: 0.02207, lr: 1.00E-02, _patience: 3\n",
            "Epoch: 39 | train_loss: 0.04340, val_loss: 0.02177, lr: 1.00E-02, _patience: 3\n",
            "Epoch: 40 | train_loss: 0.04786, val_loss: 0.02194, lr: 1.00E-02, _patience: 2\n",
            "Epoch: 41 | train_loss: 0.04722, val_loss: 0.02110, lr: 1.00E-02, _patience: 3\n",
            "Epoch: 42 | train_loss: 0.04098, val_loss: 0.02030, lr: 1.00E-02, _patience: 3\n",
            "Epoch: 43 | train_loss: 0.04410, val_loss: 0.02001, lr: 1.00E-02, _patience: 3\n",
            "Epoch: 44 | train_loss: 0.03823, val_loss: 0.01966, lr: 1.00E-02, _patience: 3\n",
            "Epoch: 45 | train_loss: 0.04027, val_loss: 0.01916, lr: 1.00E-02, _patience: 3\n",
            "Epoch: 46 | train_loss: 0.03433, val_loss: 0.01850, lr: 1.00E-02, _patience: 3\n",
            "Epoch: 47 | train_loss: 0.03751, val_loss: 0.01789, lr: 1.00E-02, _patience: 3\n",
            "Epoch: 48 | train_loss: 0.03818, val_loss: 0.01754, lr: 1.00E-02, _patience: 3\n",
            "Epoch: 49 | train_loss: 0.04378, val_loss: 0.01882, lr: 1.00E-02, _patience: 2\n",
            "Epoch: 50 | train_loss: 0.04206, val_loss: 0.01907, lr: 1.00E-02, _patience: 1\n",
            "Stopping early!\n"
          ]
        }
      ]
    },
    {
      "cell_type": "markdown",
      "metadata": {
        "id": "HnjdSO1lxNq6"
      },
      "source": [
        "#Evaluation"
      ]
    },
    {
      "cell_type": "code",
      "metadata": {
        "id": "UOsjjwfMxwUi"
      },
      "source": [
        "import json\n",
        "from sklearn.metrics import precision_recall_fscore_support"
      ],
      "execution_count": 51,
      "outputs": []
    },
    {
      "cell_type": "code",
      "metadata": {
        "id": "WUD_Krp-xrdl"
      },
      "source": [
        "def get_performance(y_true, y_pred, classes):\n",
        "    \"\"\"Per-class performance metrics.\"\"\"\n",
        "    # Performance\n",
        "    performance = {\"overall\": {}, \"class\": {}}\n",
        "\n",
        "    # Overall performance\n",
        "    metrics = precision_recall_fscore_support(y_true, y_pred, average=\"weighted\")\n",
        "    performance[\"overall\"][\"precision\"] = metrics[0]\n",
        "    performance[\"overall\"][\"recall\"] = metrics[1]\n",
        "    performance[\"overall\"][\"f1\"] = metrics[2]\n",
        "    performance[\"overall\"][\"num_samples\"] = np.float64(len(y_true))\n",
        "\n",
        "    # Per-class performance\n",
        "    metrics = precision_recall_fscore_support(y_true, y_pred, average=None)\n",
        "    for i in range(len(classes)):\n",
        "        performance[\"class\"][classes[i]] = {\n",
        "            \"precision\": metrics[0][i],\n",
        "            \"recall\": metrics[1][i],\n",
        "            \"f1\": metrics[2][i],\n",
        "            \"num_samples\": np.float64(metrics[3][i]),\n",
        "        }\n",
        "\n",
        "    return performance"
      ],
      "execution_count": 52,
      "outputs": []
    },
    {
      "cell_type": "code",
      "metadata": {
        "id": "m8lXcBh9xPZ0"
      },
      "source": [
        "# Get predictions\n",
        "test_loss, y_true, y_prob = trainer.eval_step(dataloader=test_dataloader)\n",
        "y_pred = np.argmax(y_prob, axis=1)"
      ],
      "execution_count": 53,
      "outputs": []
    },
    {
      "cell_type": "code",
      "metadata": {
        "colab": {
          "base_uri": "https://localhost:8080/"
        },
        "id": "u9exAxINxPgA",
        "outputId": "b1307614-f652-4aa8-dd1b-d4e1b4e63e8e"
      },
      "source": [
        "# Determine performance\n",
        "performance = get_performance(\n",
        "    y_true=y_test, y_pred=y_pred, classes=label_encoder.classes)\n",
        "print (json.dumps(performance['overall'], indent=2))"
      ],
      "execution_count": 54,
      "outputs": [
        {
          "output_type": "stream",
          "name": "stdout",
          "text": [
            "{\n",
            "  \"precision\": 1.0,\n",
            "  \"recall\": 1.0,\n",
            "  \"f1\": 1.0,\n",
            "  \"num_samples\": 225.0\n",
            "}\n"
          ]
        }
      ]
    },
    {
      "cell_type": "markdown",
      "metadata": {
        "id": "5PDPRJudCm8j"
      },
      "source": [
        "# Saving and loading"
      ]
    },
    {
      "cell_type": "markdown",
      "metadata": {
        "id": "me91eCz3Cpr8"
      },
      "source": [
        "Many tutorials never show you how to save the components you created so you can load them for inference."
      ]
    },
    {
      "cell_type": "code",
      "metadata": {
        "id": "OHz0RI7PCpw-"
      },
      "source": [
        "from pathlib import Path"
      ],
      "execution_count": 55,
      "outputs": []
    },
    {
      "cell_type": "code",
      "metadata": {
        "id": "6-ouIfZjCpzv"
      },
      "source": [
        "# Save artifacts\n",
        "dir = Path(\"mlp\")\n",
        "dir.mkdir(parents=True, exist_ok=True)\n",
        "label_encoder.save(fp=Path(dir, 'label_encoder.json'))\n",
        "X_scaler.save(fp=Path(dir, 'X_scaler.json'))\n",
        "torch.save(best_model.state_dict(), Path(dir, 'model.pt'))\n",
        "with open(Path(dir, 'performance.json'), \"w\") as fp:\n",
        "    json.dump(performance, indent=2, sort_keys=False, fp=fp)"
      ],
      "execution_count": 56,
      "outputs": []
    },
    {
      "cell_type": "code",
      "metadata": {
        "colab": {
          "base_uri": "https://localhost:8080/"
        },
        "id": "UrGC_3RhCp2H",
        "outputId": "e86c2962-81c6-4071-cfb3-2b33911b42cc"
      },
      "source": [
        "# Load artifacts\n",
        "device = torch.device(\"cpu\")\n",
        "label_encoder = LabelEncoder.load(fp=Path(dir, 'label_encoder.json'))\n",
        "X_scaler = StandardScaler.load(fp=Path(dir, 'X_scaler.json'))\n",
        "model = MLP(\n",
        "    input_dim=INPUT_DIM, hidden_dim=HIDDEN_DIM,\n",
        "    dropout_p=DROPOUT_P, num_classes=NUM_CLASSES)\n",
        "model.load_state_dict(torch.load(Path(dir, 'model.pt'), map_location=device))\n",
        "model.to(device)"
      ],
      "execution_count": 57,
      "outputs": [
        {
          "output_type": "execute_result",
          "data": {
            "text/plain": [
              "MLP(\n",
              "  (fc1): Linear(in_features=2, out_features=100, bias=True)\n",
              "  (dropout): Dropout(p=0.1, inplace=False)\n",
              "  (fc2): Linear(in_features=100, out_features=3, bias=True)\n",
              ")"
            ]
          },
          "metadata": {},
          "execution_count": 57
        }
      ]
    },
    {
      "cell_type": "code",
      "metadata": {
        "id": "xbS5LmSgCqUn"
      },
      "source": [
        "# Initialize trainer\n",
        "trainer = Trainer(model=model, device=device)"
      ],
      "execution_count": 58,
      "outputs": []
    },
    {
      "cell_type": "code",
      "metadata": {
        "id": "wS-suIKQzwNI"
      },
      "source": [
        "# Dataloader\n",
        "sample = [[0.106737, 0.114197]] # c1\n",
        "X = X_scaler.scale(sample)\n",
        "y_filler = label_encoder.encode([label_encoder.classes[0]]*len(X))\n",
        "dataset = Dataset(X=X, y=y_filler)\n",
        "dataloader = dataset.create_dataloader(batch_size=batch_size)"
      ],
      "execution_count": 59,
      "outputs": []
    },
    {
      "cell_type": "code",
      "metadata": {
        "colab": {
          "base_uri": "https://localhost:8080/"
        },
        "id": "6fK3_WcKzwQH",
        "outputId": "dec62e3b-b3ae-4271-f579-b7496f414f99"
      },
      "source": [
        "# Inference\n",
        "y_prob = trainer.predict_step(dataloader)\n",
        "y_pred = np.argmax(y_prob, axis=1)\n",
        "label_encoder.decode(y_pred)"
      ],
      "execution_count": 60,
      "outputs": [
        {
          "output_type": "execute_result",
          "data": {
            "text/plain": [
              "['c1']"
            ]
          },
          "metadata": {},
          "execution_count": 60
        }
      ]
    },
    {
      "cell_type": "markdown",
      "metadata": {
        "id": "oUoRlWCyC2KA"
      },
      "source": [
        "# Miscellaneous"
      ]
    },
    {
      "cell_type": "markdown",
      "metadata": {
        "id": "A4-8e9UIC38l"
      },
      "source": [
        "There are lots of other utilities to cover as well such as:\n",
        "\n",
        "- Tokenizers to convert text to sequence of indices\n",
        "- Various encoders to represent our data\n",
        "- Padding to ensure uniform data shapes\n",
        "- Experiment tracking to visualize and keep track of all experiments\n",
        "- Hyperparameter optimization to tune our parameters (hidden units, learning rate, etc.)\n",
        "- and many more!\n",
        "\n",
        "We'll explore these as we require them in future lessons including some in our [MLOps](https://madewithml.com/#mlops) course!\n",
        "\n"
      ]
    }
  ]
}