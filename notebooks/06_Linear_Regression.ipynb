{
  "nbformat": 4,
  "nbformat_minor": 0,
  "metadata": {
    "colab": {
      "name": "06_Linear_Regression",
      "provenance": [],
      "collapsed_sections": [],
      "toc_visible": true,
      "include_colab_link": true
    },
    "kernelspec": {
      "display_name": "Python 3",
      "language": "python",
      "name": "python3"
    },
    "language_info": {
      "codemirror_mode": {
        "name": "ipython",
        "version": 3
      },
      "file_extension": ".py",
      "mimetype": "text/x-python",
      "name": "python",
      "nbconvert_exporter": "python",
      "pygments_lexer": "ipython3",
      "version": "3.7.7"
    }
  },
  "cells": [
    {
      "cell_type": "markdown",
      "metadata": {
        "id": "view-in-github",
        "colab_type": "text"
      },
      "source": [
        "<a href=\"https://colab.research.google.com/github/callezenwaka/MadeWithML/blob/main/notebooks/06_Linear_Regression.ipynb\" target=\"_parent\"><img src=\"https://colab.research.google.com/assets/colab-badge.svg\" alt=\"Open In Colab\"/></a>"
      ]
    },
    {
      "cell_type": "markdown",
      "metadata": {
        "id": "2ilkR0Rh1V7I"
      },
      "source": [
        "<div align=\"center\">\n",
        "<h1><img width=\"30\" src=\"https://madewithml.com/static/images/rounded_logo.png\">&nbsp;<a href=\"https://madewithml.com/\">Made With ML</a></h1>\n",
        "Applied ML · MLOps · Production\n",
        "<br>\n",
        "Join 30K+ developers in learning how to responsibly <a href=\"https://madewithml.com/about/\">deliver value</a> with ML.\n",
        "    <br>\n",
        "</div>\n",
        "\n",
        "<br>\n",
        "\n",
        "<div align=\"center\">\n",
        "    <a target=\"_blank\" href=\"https://newsletter.madewithml.com\"><img src=\"https://img.shields.io/badge/Subscribe-30K-brightgreen\"></a>&nbsp;\n",
        "    <a target=\"_blank\" href=\"https://github.com/GokuMohandas/MadeWithML\"><img src=\"https://img.shields.io/github/stars/GokuMohandas/MadeWithML.svg?style=social&label=Star\"></a>&nbsp;\n",
        "    <a target=\"_blank\" href=\"https://www.linkedin.com/in/goku\"><img src=\"https://img.shields.io/badge/style--5eba00.svg?label=LinkedIn&logo=linkedin&style=social\"></a>&nbsp;\n",
        "    <a target=\"_blank\" href=\"https://twitter.com/GokuMohandas\"><img src=\"https://img.shields.io/twitter/follow/GokuMohandas.svg?label=Follow&style=social\"></a>\n",
        "    <br>\n",
        "    🔥&nbsp; Among the <a href=\"https://github.com/topics/deep-learning\" target=\"_blank\">top ML</a> repositories on GitHub\n",
        "</div>\n",
        "\n",
        "<br>\n",
        "<hr>"
      ]
    },
    {
      "cell_type": "markdown",
      "metadata": {
        "id": "7nDdR3N2R2PJ"
      },
      "source": [
        "# Linear Regression\n",
        "\n",
        "In this lesson we will learn about linear regression. We will understand the basic math behind it, implement it from scratch using NumPy and then in PyTorch."
      ]
    },
    {
      "cell_type": "markdown",
      "metadata": {
        "id": "Izx6GIn_SETR"
      },
      "source": [
        "<div align=\"left\">\n",
        "<a target=\"_blank\" href=\"https://madewithml.com/courses/foundations/linear-regression/\"><img src=\"https://img.shields.io/badge/📖 Read-blog post-9cf\"></a>&nbsp;\n",
        "<a href=\"https://github.com/GokuMohandas/MadeWithML/blob/main/notebooks/06_Linear_Regression.ipynb\" role=\"button\"><img src=\"https://img.shields.io/static/v1?label=&amp;message=View%20On%20GitHub&amp;color=586069&amp;logo=github&amp;labelColor=2f363d\"></a>&nbsp;\n",
        "<a href=\"https://colab.research.google.com/github/GokuMohandas/MadeWithML/blob/main/notebooks/06_Linear_Regression.ipynb\"><img src=\"https://colab.research.google.com/assets/colab-badge.svg\" alt=\"Open In Colab\"></a>\n",
        "</div>"
      ]
    },
    {
      "cell_type": "markdown",
      "metadata": {
        "id": "NGE2LxIQuSRa"
      },
      "source": [
        "# Overview"
      ]
    },
    {
      "cell_type": "markdown",
      "metadata": {
        "id": "Hi-KdxD_uSln"
      },
      "source": [
        "Our goal is to learn a linear model $\\hat{y}$ that models $y$ given $X$. \n",
        "\n",
        "$\\hat{y} = XW + b$\n",
        "* $\\hat{y}$ = predictions | $\\in \\mathbb{R}^{NX1}$ ($N$ is the number of samples)\n",
        "* $X$ = inputs | $\\in \\mathbb{R}^{NXD}$ ($D$ is the number of features)\n",
        "* $W$ = weights | $\\in \\mathbb{R}^{DX1}$ \n",
        "* $b$ = bias | $\\in \\mathbb{R}^{1}$ "
      ]
    },
    {
      "cell_type": "markdown",
      "metadata": {
        "id": "DxOri3K3uSsB"
      },
      "source": [
        "* **Objective:**  Use inputs $X$ to predict the output $\\hat{y}$ using a linear model. The model will be a line of best fit that minimizes the distance between the predicted (model's output) and target (ground truth) values. Training data $(X, y)$ is used to train the model and learn the weights $W$ using gradient descent.\n",
        "* **Advantages:**\n",
        "  * Computationally simple.\n",
        "  * Highly interpretable.\n",
        "  * Can account for continuous and categorical features.\n",
        "* **Disadvantages:**\n",
        "  * The model will perform well only when the data is linearly separable (for classification).\n",
        "  * Usually not used for classification and only for regression.\n",
        "* **Miscellaneous:** You can also use linear regression for binary classification tasks where if the predicted continuous value is above a threshold, it belongs to a certain class. But we will cover better techniques for classification in future lessons and will focus on linear regression for continuous regression tasks only.\n"
      ]
    },
    {
      "cell_type": "markdown",
      "metadata": {
        "id": "G8EkjWiKd68P"
      },
      "source": [
        "# Generate data"
      ]
    },
    {
      "cell_type": "markdown",
      "metadata": {
        "id": "2u0wnvwWgjmT"
      },
      "source": [
        "We're going to generate some simple dummy data to apply linear regression on. It's going to create roughly linear data (`y = 3.5X + noise`); the random noise is added to create realistic data that doesn't perfectly align in a line. Our goal is to have the model converge to a similar linear equation (there will be slight variance since we added some noise)."
      ]
    },
    {
      "cell_type": "code",
      "metadata": {
        "id": "a39zl86Fg1CL"
      },
      "source": [
        "import numpy as np\n",
        "import pandas as pd\n",
        "import matplotlib.pyplot as plt"
      ],
      "execution_count": 1,
      "outputs": []
    },
    {
      "cell_type": "code",
      "metadata": {
        "id": "9rUjxlhvhzIR"
      },
      "source": [
        "SEED = 1234\n",
        "NUM_SAMPLES = 50"
      ],
      "execution_count": 2,
      "outputs": []
    },
    {
      "cell_type": "code",
      "metadata": {
        "id": "OOT0wOiZX9eJ"
      },
      "source": [
        "# Set seed for reproducibility\n",
        "np.random.seed(SEED)"
      ],
      "execution_count": 3,
      "outputs": []
    },
    {
      "cell_type": "code",
      "metadata": {
        "id": "vCcF_QkYdozl"
      },
      "source": [
        "# Generate synthetic data\n",
        "def generate_data(num_samples):\n",
        "    \"\"\"Generate dummy data for linear regression.\"\"\"\n",
        "    X = np.array(range(num_samples))\n",
        "    random_noise = np.random.uniform(-10,20,size=num_samples)\n",
        "    y = 3.5*X + random_noise # add some noise\n",
        "    return X, y"
      ],
      "execution_count": 4,
      "outputs": []
    },
    {
      "cell_type": "code",
      "metadata": {
        "colab": {
          "base_uri": "https://localhost:8080/"
        },
        "id": "kzSANn29g36a",
        "outputId": "da9efbc8-ad53-4e0c-8265-086b85df824b"
      },
      "source": [
        "# Generate random (linear) data\n",
        "X, y = generate_data(num_samples=NUM_SAMPLES)\n",
        "data = np.vstack([X, y]).T\n",
        "print (data[:5])"
      ],
      "execution_count": 5,
      "outputs": [
        {
          "output_type": "stream",
          "text": [
            "[[ 0.         -4.25441649]\n",
            " [ 1.         12.16326313]\n",
            " [ 2.         10.13183217]\n",
            " [ 3.         24.06075751]\n",
            " [ 4.         27.39927424]]\n"
          ],
          "name": "stdout"
        }
      ]
    },
    {
      "cell_type": "code",
      "metadata": {
        "colab": {
          "base_uri": "https://localhost:8080/",
          "height": 206
        },
        "id": "4ckWsUsKhCDC",
        "outputId": "695c5468-4332-480a-a4a9-9381f6b0d1f1"
      },
      "source": [
        "# Load into a Pandas DataFrame\n",
        "df = pd.DataFrame(data, columns=['X', 'y'])\n",
        "X = df[['X']].values\n",
        "y = df[['y']].values\n",
        "df.head()"
      ],
      "execution_count": 9,
      "outputs": [
        {
          "output_type": "execute_result",
          "data": {
            "text/html": [
              "<div>\n",
              "<style scoped>\n",
              "    .dataframe tbody tr th:only-of-type {\n",
              "        vertical-align: middle;\n",
              "    }\n",
              "\n",
              "    .dataframe tbody tr th {\n",
              "        vertical-align: top;\n",
              "    }\n",
              "\n",
              "    .dataframe thead th {\n",
              "        text-align: right;\n",
              "    }\n",
              "</style>\n",
              "<table border=\"1\" class=\"dataframe\">\n",
              "  <thead>\n",
              "    <tr style=\"text-align: right;\">\n",
              "      <th></th>\n",
              "      <th>X</th>\n",
              "      <th>y</th>\n",
              "    </tr>\n",
              "  </thead>\n",
              "  <tbody>\n",
              "    <tr>\n",
              "      <th>0</th>\n",
              "      <td>0.0</td>\n",
              "      <td>-4.254416</td>\n",
              "    </tr>\n",
              "    <tr>\n",
              "      <th>1</th>\n",
              "      <td>1.0</td>\n",
              "      <td>12.163263</td>\n",
              "    </tr>\n",
              "    <tr>\n",
              "      <th>2</th>\n",
              "      <td>2.0</td>\n",
              "      <td>10.131832</td>\n",
              "    </tr>\n",
              "    <tr>\n",
              "      <th>3</th>\n",
              "      <td>3.0</td>\n",
              "      <td>24.060758</td>\n",
              "    </tr>\n",
              "    <tr>\n",
              "      <th>4</th>\n",
              "      <td>4.0</td>\n",
              "      <td>27.399274</td>\n",
              "    </tr>\n",
              "  </tbody>\n",
              "</table>\n",
              "</div>"
            ],
            "text/plain": [
              "     X          y\n",
              "0  0.0  -4.254416\n",
              "1  1.0  12.163263\n",
              "2  2.0  10.131832\n",
              "3  3.0  24.060758\n",
              "4  4.0  27.399274"
            ]
          },
          "metadata": {},
          "execution_count": 9
        }
      ]
    },
    {
      "cell_type": "code",
      "metadata": {
        "colab": {
          "base_uri": "https://localhost:8080/",
          "height": 281
        },
        "id": "qh3z65QXhCj5",
        "outputId": "285fe316-f5dc-43ea-fcc8-92b29dc6ca0a"
      },
      "source": [
        "# Scatter plot\n",
        "plt.title(\"Generated data\")\n",
        "plt.scatter(x=df['X'], y=df['y'])\n",
        "plt.show()"
      ],
      "execution_count": 10,
      "outputs": [
        {
          "output_type": "display_data",
          "data": {
            "image/png": "[encoded data removed]",
            "text/plain": [
              "<Figure size 432x288 with 1 Axes>"
            ]
          },
          "metadata": {
            "needs_background": "light"
          }
        }
      ]
    },
    {
      "cell_type": "markdown",
      "metadata": {
        "id": "Myxvm0YWlppI"
      },
      "source": [
        "# NumPy"
      ]
    },
    {
      "cell_type": "markdown",
      "metadata": {
        "id": "aHhypQvalsTd"
      },
      "source": [
        "Now that we have our data prepared, we'll first implement linear regression using just NumPy. This will let us really understand the underlying operations."
      ]
    },
    {
      "cell_type": "markdown",
      "metadata": {
        "id": "kzjHPncuQpuE"
      },
      "source": [
        "## Split data"
      ]
    },
    {
      "cell_type": "markdown",
      "metadata": {
        "id": "ElbTBdP8Q6k5"
      },
      "source": [
        "Since our task is a regression task, we will randomly split our dataset into three sets: train, validation and test data splits.\n",
        "- `train`: used to train our model.\n",
        "- `val` : used to validate our model's performance during training.\n",
        "- `test`: used to do an evaluation of our fully trained model.\n",
        "\n",
        "> Be sure to check out our entire lesson focused on *properly* [splitting](https://madewithml.com/courses/mlops/splitting/) data in our [mlops](https://madewithml.com/#mlops) course."
      ]
    },
    {
      "cell_type": "code",
      "metadata": {
        "id": "rrTd9wP9Qv2_"
      },
      "source": [
        "TRAIN_SIZE = 0.7\n",
        "VAL_SIZE = 0.15\n",
        "TEST_SIZE = 0.15"
      ],
      "execution_count": 11,
      "outputs": []
    },
    {
      "cell_type": "code",
      "metadata": {
        "id": "w3cWO_EwRC72",
        "colab": {
          "base_uri": "https://localhost:8080/"
        },
        "outputId": "65a7f5c9-8bc9-49b2-9160-6946b2ca7f01"
      },
      "source": [
        "# Shuffle data\n",
        "indices = list(range(NUM_SAMPLES))\n",
        "np.random.shuffle(indices)\n",
        "print(indices)\n",
        "X = X[indices]\n",
        "y = y[indices]"
      ],
      "execution_count": 14,
      "outputs": [
        {
          "output_type": "stream",
          "text": [
            "[48, 31, 14, 0, 26, 36, 28, 13, 1, 37, 29, 7, 20, 43, 16, 4, 10, 3, 41, 11, 46, 15, 9, 33, 35, 44, 6, 40, 47, 2, 5, 27, 18, 49, 19, 22, 21, 45, 23, 8, 32, 42, 12, 24, 39, 25, 34, 38, 30, 17]\n"
          ],
          "name": "stdout"
        }
      ]
    },
    {
      "cell_type": "markdown",
      "metadata": {
        "id": "mhnoMWg_gZme"
      },
      "source": [
        "> Be careful not to shuffle X and y separately because then the inputs won't correspond to the outputs!"
      ]
    },
    {
      "cell_type": "code",
      "metadata": {
        "id": "CfmqoOyIRUop"
      },
      "source": [
        "# Split indices\n",
        "train_start = 0\n",
        "train_end = int(0.7*NUM_SAMPLES)\n",
        "val_start = train_end\n",
        "val_end = int((TRAIN_SIZE+VAL_SIZE)*NUM_SAMPLES)\n",
        "test_start = val_end"
      ],
      "execution_count": 15,
      "outputs": []
    },
    {
      "cell_type": "code",
      "metadata": {
        "colab": {
          "base_uri": "https://localhost:8080/"
        },
        "id": "F8JKSPgXSBf6",
        "outputId": "47e3af00-033b-49dd-90fe-358be5625270"
      },
      "source": [
        "# Split data\n",
        "X_train = X[train_start:train_end]\n",
        "y_train = y[train_start:train_end]\n",
        "X_val = X[val_start:val_end]\n",
        "y_val = y[val_start:val_end]\n",
        "X_test = X[test_start:]\n",
        "y_test = y[test_start:]\n",
        "print (f\"X_train: {X_train.shape}, y_train: {y_train.shape}\")\n",
        "print (f\"X_val: {X_val.shape}, y_test: {y_val.shape}\")\n",
        "print (f\"X_test: {X_test.shape}, y_test: {y_test.shape}\")"
      ],
      "execution_count": 16,
      "outputs": [
        {
          "output_type": "stream",
          "text": [
            "X_train: (35, 1), y_train: (35, 1)\n",
            "X_val: (7, 1), y_test: (7, 1)\n",
            "X_test: (8, 1), y_test: (8, 1)\n"
          ],
          "name": "stdout"
        }
      ]
    },
    {
      "cell_type": "markdown",
      "metadata": {
        "id": "ok62daFIQv9x"
      },
      "source": [
        "## Standardize data"
      ]
    },
    {
      "cell_type": "markdown",
      "metadata": {
        "id": "0pQweIQuUTpl"
      },
      "source": [
        "We need to standardize our data (zero mean and unit variance) so a specific feature's magnitude doesn't affect how the model learns its weights.\n",
        "\n",
        "$z = \\frac{x_i - \\mu}{\\sigma}$\n",
        "* $z$ = standardized value\n",
        "* $x_i$ = inputs\n",
        "* $\\mu$ = mean\n",
        "* $\\sigma$ = standard deviation"
      ]
    },
    {
      "cell_type": "code",
      "metadata": {
        "id": "pM1h8CrbQyTG"
      },
      "source": [
        "def standardize_data(data, mean, std):\n",
        "    return (data - mean)/std"
      ],
      "execution_count": 17,
      "outputs": []
    },
    {
      "cell_type": "code",
      "metadata": {
        "id": "HWvKMt2-Ui3G"
      },
      "source": [
        "# Determine means and stds\n",
        "X_mean = np.mean(X_train)\n",
        "X_std = np.std(X_train)\n",
        "y_mean = np.mean(y_train)\n",
        "y_std = np.std(y_train)"
      ],
      "execution_count": 18,
      "outputs": []
    },
    {
      "cell_type": "markdown",
      "metadata": {
        "id": "XM1EXQFeU3cL"
      },
      "source": [
        "We need to treat the validation and test sets as if they were hidden datasets. So we only use the train set to determine the mean and std to avoid biasing our training process."
      ]
    },
    {
      "cell_type": "code",
      "metadata": {
        "id": "csHkTwpyUvt4"
      },
      "source": [
        "# Standardize\n",
        "X_train = standardize_data(X_train, X_mean, X_std)\n",
        "y_train = standardize_data(y_train, y_mean, y_std)\n",
        "X_val = standardize_data(X_val, X_mean, X_std)\n",
        "y_val = standardize_data(y_val, y_mean, y_std)\n",
        "X_test = standardize_data(X_test, X_mean, X_std)\n",
        "y_test = standardize_data(y_test, y_mean, y_std)"
      ],
      "execution_count": 19,
      "outputs": []
    },
    {
      "cell_type": "code",
      "metadata": {
        "colab": {
          "base_uri": "https://localhost:8080/"
        },
        "id": "qKkTM0n1V8SN",
        "outputId": "6e22011c-f9ce-424a-ef49-284440614045"
      },
      "source": [
        "# Check (means should be ~0 and std should be ~1)\n",
        "print (f\"mean: {np.mean(X_test, axis=0)[0]:.1f}, std: {np.std(X_test, axis=0)[0]:.1f}\")\n",
        "print (f\"mean: {np.mean(y_test, axis=0)[0]:.1f}, std: {np.std(y_test, axis=0)[0]:.1f}\")"
      ],
      "execution_count": 20,
      "outputs": [
        {
          "output_type": "stream",
          "text": [
            "mean: -1.4, std: 0.8\n",
            "mean: -1.5, std: 0.8\n"
          ],
          "name": "stdout"
        }
      ]
    },
    {
      "cell_type": "markdown",
      "metadata": {
        "id": "jyqSl8jyQzKz"
      },
      "source": [
        "## Weights"
      ]
    },
    {
      "cell_type": "markdown",
      "metadata": {
        "id": "3xQZ0Hbln6TR"
      },
      "source": [
        "Our goal is to learn a linear model $\\hat{y}$ that models $y$ given $X$. \n",
        "\n",
        "$\\hat{y} = XW + b$\n",
        "* $\\hat{y}$ = predictions | $\\in \\mathbb{R}^{NX1}$ ($N$ is the number of samples)\n",
        "* $X$ = inputs | $\\in \\mathbb{R}^{NXD}$ ($D$ is the number of features)\n",
        "* $W$ = weights | $\\in \\mathbb{R}^{DX1}$ \n",
        "* $b$ = bias | $\\in \\mathbb{R}^{1}$ "
      ]
    },
    {
      "cell_type": "markdown",
      "metadata": {
        "id": "Baph5j7xn9XE"
      },
      "source": [
        "1. Randomly initialize the model's weights $W$."
      ]
    },
    {
      "cell_type": "code",
      "metadata": {
        "id": "aAOAboM0oFbV"
      },
      "source": [
        "INPUT_DIM = X_train.shape[1] # X is 1-dimensional\n",
        "OUTPUT_DIM = y_train.shape[1] # y is 1-dimensional"
      ],
      "execution_count": 23,
      "outputs": []
    },
    {
      "cell_type": "code",
      "metadata": {
        "colab": {
          "base_uri": "https://localhost:8080/"
        },
        "id": "chU5n3IgkVci",
        "outputId": "defb31e8-3e71-4d8c-a38b-88e623b17387"
      },
      "source": [
        "# Initialize random weights\n",
        "W = 0.01 * np.random.randn(INPUT_DIM, OUTPUT_DIM)\n",
        "b = np.zeros((1, 1))\n",
        "print (f\"W: {W.shape}\")\n",
        "print (f\"b: {b.shape}\")"
      ],
      "execution_count": 24,
      "outputs": [
        {
          "output_type": "stream",
          "text": [
            "W: (1, 1)\n",
            "b: (1, 1)\n"
          ],
          "name": "stdout"
        }
      ]
    },
    {
      "cell_type": "markdown",
      "metadata": {
        "id": "_QjDXSXfWv7Y"
      },
      "source": [
        "## Model"
      ]
    },
    {
      "cell_type": "markdown",
      "metadata": {
        "id": "tOqP0jrBoMMd"
      },
      "source": [
        "2. Feed inputs $X$ into the model to receive the predictions $\\hat{y}$.\n",
        "  * $\\hat{y} = XW + b$"
      ]
    },
    {
      "cell_type": "code",
      "metadata": {
        "colab": {
          "base_uri": "https://localhost:8080/"
        },
        "id": "-TBnfN4mkVa6",
        "outputId": "fd05e25e-d707-4d26-e354-d30c57f00d6a"
      },
      "source": [
        "# Forward pass [NX1] · [1X1] = [NX1]\n",
        "y_pred = np.dot(X_train, W) + b\n",
        "print (f\"y_pred: {y_pred.shape}\")"
      ],
      "execution_count": 25,
      "outputs": [
        {
          "output_type": "stream",
          "text": [
            "y_pred: (35, 1)\n"
          ],
          "name": "stdout"
        }
      ]
    },
    {
      "cell_type": "markdown",
      "metadata": {
        "id": "hcvVc7UkWyMx"
      },
      "source": [
        "## Loss"
      ]
    },
    {
      "cell_type": "markdown",
      "metadata": {
        "id": "8EbP8eWUoRqo"
      },
      "source": [
        "3. Compare the predictions $\\hat{y}$ with the actual target values $y$ using the objective (cost) function to determine the loss $J$. A common objective function for linear regression is mean squarred error (MSE). This function calculates the difference between the predicted and target values and squares it.\n",
        "\n",
        "  * $J(\\theta) = MSE = \\frac{1}{N} \\sum_{i-1}^{N} (y_i - \\hat{y}_i)^2 $\n",
        "    * ${y}$ = ground truth | $\\in \\mathbb{R}^{NX1}$\n",
        "    * $\\hat{y}$ = predictions | $\\in \\mathbb{R}^{NX1}$"
      ]
    },
    {
      "cell_type": "code",
      "metadata": {
        "colab": {
          "base_uri": "https://localhost:8080/"
        },
        "id": "h30Y6v5FoPBL",
        "outputId": "2e401661-dd6d-4e40-d184-6bcf6e5d4517"
      },
      "source": [
        "# Loss\n",
        "N = len(y_train)\n",
        "loss = (1/N) * np.sum((y_train - y_pred)**2)\n",
        "print (f\"loss: {loss:.2f}\")"
      ],
      "execution_count": 26,
      "outputs": [
        {
          "output_type": "stream",
          "text": [
            "loss: 0.99\n"
          ],
          "name": "stdout"
        }
      ]
    },
    {
      "cell_type": "markdown",
      "metadata": {
        "id": "BbzZqCXLWzuJ"
      },
      "source": [
        "## Gradients"
      ]
    },
    {
      "cell_type": "markdown",
      "metadata": {
        "id": "yBdMI-Xxoazo"
      },
      "source": [
        "4. Calculate the gradient of loss $J(\\theta)$ w.r.t to the model weights.\n",
        "  * $J(\\theta) = \\frac{1}{N} \\sum_i (y_i - \\hat{y}_i)^2  = \\frac{1}{N}\\sum_i (y_i - X_iW)^2 $\n",
        "    * $\\frac{\\partial{J}}{\\partial{W}} = -\\frac{2}{N} \\sum_i (y_i - X_iW) X_i = -\\frac{2}{N} \\sum_i (y_i - \\hat{y}_i) X_i$\n",
        "    * $\\frac{\\partial{J}}{\\partial{b}} = -\\frac{2}{N} \\sum_i (y_i - X_iW)1 = -\\frac{2}{N} \\sum_i (y_i - \\hat{y}_i)1$"
      ]
    },
    {
      "cell_type": "code",
      "metadata": {
        "id": "U5zrZ2j4oPYX"
      },
      "source": [
        "# Backpropagation\n",
        "dW = -(2/N) * np.sum((y_train - y_pred) * X_train)\n",
        "db = -(2/N) * np.sum((y_train - y_pred) * 1)"
      ],
      "execution_count": 27,
      "outputs": []
    },
    {
      "cell_type": "markdown",
      "metadata": {
        "id": "_sIznBOQrFtw"
      },
      "source": [
        "> The gradient is the derivative, or the rate of change of a function. It's a vector that points in the direction of greatest increase of a function. For example the gradient of our loss function ($J$) with respect to our weights ($W$) will tell us how to change W so we can maximize $J$. However, we want to minimize our loss so we subtract the gradient from $W$. "
      ]
    },
    {
      "cell_type": "markdown",
      "metadata": {
        "id": "zKyRWE7BXKku"
      },
      "source": [
        "## Update weights"
      ]
    },
    {
      "cell_type": "markdown",
      "metadata": {
        "id": "4Hs2ikYNpSSd"
      },
      "source": [
        "5. Update the weights $W$ using a small learning rate $\\alpha$.\n",
        "  * $W = W - \\alpha\\frac{\\partial{J}}{\\partial{W}}$\n",
        "  * $b = b - \\alpha\\frac{\\partial{J}}{\\partial{b}}$"
      ]
    },
    {
      "cell_type": "code",
      "metadata": {
        "id": "rKuOCcjep3ND"
      },
      "source": [
        "LEARNING_RATE = 1e-1"
      ],
      "execution_count": 28,
      "outputs": []
    },
    {
      "cell_type": "code",
      "metadata": {
        "id": "v9E7zB0IoPd0"
      },
      "source": [
        "# Update weights\n",
        "W += -LEARNING_RATE * dW\n",
        "b += -LEARNING_RATE * db"
      ],
      "execution_count": 29,
      "outputs": []
    },
    {
      "cell_type": "markdown",
      "metadata": {
        "id": "hYijMGqvpigf"
      },
      "source": [
        "> The learning rate $\\alpha$ is a way to control how much we update the weights by. If we choose a small learning rate, it may take a long time for our model to train. However, if we choose a large learning rate, we may overshoot and our training will never converge. The specific learning rate depends on our data and the type of models we use but it's typically good to explore in the range of $[1e^{-8}, 1e^{-1}]$. We'll explore learning rate update strategies in later lessons."
      ]
    },
    {
      "cell_type": "markdown",
      "metadata": {
        "id": "rRiMWUARXBM4"
      },
      "source": [
        "## Training"
      ]
    },
    {
      "cell_type": "markdown",
      "metadata": {
        "id": "745G2w_rrBZl"
      },
      "source": [
        "6. Repeat steps 2 - 5 to minimize the loss and train the model."
      ]
    },
    {
      "cell_type": "code",
      "metadata": {
        "id": "-QpmeHBhrIQI"
      },
      "source": [
        "NUM_EPOCHS = 100"
      ],
      "execution_count": 30,
      "outputs": []
    },
    {
      "cell_type": "code",
      "metadata": {
        "colab": {
          "base_uri": "https://localhost:8080/"
        },
        "id": "89vkuOZdoPcK",
        "outputId": "6dc93e27-6444-4f14-b90a-1eeb9ff5177c"
      },
      "source": [
        "# Initialize random weights\n",
        "W = 0.01 * np.random.randn(INPUT_DIM, OUTPUT_DIM)\n",
        "b = np.zeros((1, ))\n",
        "\n",
        "# Training loop\n",
        "for epoch_num in range(NUM_EPOCHS):\n",
        "\n",
        "    # Forward pass [NX1] · [1X1] = [NX1]\n",
        "    y_pred = np.dot(X_train, W) + b\n",
        "\n",
        "    # Loss\n",
        "    loss = (1/len(y_train)) * np.sum((y_train - y_pred)**2)\n",
        "\n",
        "    # Show progress\n",
        "    if epoch_num%10 == 0:\n",
        "        print (f\"Epoch: {epoch_num}, loss: {loss:.3f}\")\n",
        "\n",
        "    # Backpropagation\n",
        "    dW = -(2/N) * np.sum((y_train - y_pred) * X_train)\n",
        "    db = -(2/N) * np.sum((y_train - y_pred) * 1)\n",
        "\n",
        "    # Update weights\n",
        "    W += -LEARNING_RATE * dW\n",
        "    b += -LEARNING_RATE * db"
      ],
      "execution_count": 31,
      "outputs": [
        {
          "output_type": "stream",
          "text": [
            "Epoch: 0, loss: 1.007\n",
            "Epoch: 10, loss: 0.043\n",
            "Epoch: 20, loss: 0.032\n",
            "Epoch: 30, loss: 0.032\n",
            "Epoch: 40, loss: 0.032\n",
            "Epoch: 50, loss: 0.032\n",
            "Epoch: 60, loss: 0.032\n",
            "Epoch: 70, loss: 0.032\n",
            "Epoch: 80, loss: 0.032\n",
            "Epoch: 90, loss: 0.032\n"
          ],
          "name": "stdout"
        }
      ]
    },
    {
      "cell_type": "markdown",
      "metadata": {
        "id": "emgsY5TJXZ7R"
      },
      "source": [
        "## Evaluation"
      ]
    },
    {
      "cell_type": "code",
      "metadata": {
        "id": "cNV_o2_arQNU"
      },
      "source": [
        "# Predictions \n",
        "pred_train = W*X_train + b\n",
        "pred_test = W*X_test + b"
      ],
      "execution_count": 32,
      "outputs": []
    },
    {
      "cell_type": "code",
      "metadata": {
        "colab": {
          "base_uri": "https://localhost:8080/"
        },
        "id": "KMj2xv1xrXb5",
        "outputId": "bf9eeb34-bae2-490f-cd71-1bda477e8d47"
      },
      "source": [
        "# Train and test MSE\n",
        "train_mse = np.mean((y_train - pred_train) ** 2)\n",
        "test_mse = np.mean((y_test - pred_test) ** 2)\n",
        "print (f\"train_MSE: {train_mse:.2f}, test_MSE: {test_mse:.2f}\")"
      ],
      "execution_count": 33,
      "outputs": [
        {
          "output_type": "stream",
          "text": [
            "train_MSE: 0.03, test_MSE: 0.04\n"
          ],
          "name": "stdout"
        }
      ]
    },
    {
      "cell_type": "code",
      "metadata": {
        "colab": {
          "base_uri": "https://localhost:8080/",
          "height": 336
        },
        "id": "59OcpgFArYw_",
        "outputId": "795b2ee1-97a0-45ff-c2f7-b4421f3338df"
      },
      "source": [
        "# Figure size\n",
        "plt.figure(figsize=(15,5))\n",
        "\n",
        "# Plot train data\n",
        "plt.subplot(1, 2, 1)\n",
        "plt.title(\"Train\")\n",
        "plt.scatter(X_train, y_train, label='y_train')\n",
        "plt.plot(X_train, pred_train, color='red', linewidth=1, linestyle='-', label='model')\n",
        "plt.legend(loc='lower right')\n",
        "\n",
        "# Plot test data\n",
        "plt.subplot(1, 2, 2)\n",
        "plt.title(\"Test\")\n",
        "plt.scatter(X_test, y_test, label='y_test')\n",
        "plt.plot(X_test, pred_test, color='red', linewidth=1, linestyle='-', label='model')\n",
        "plt.legend(loc='lower right')\n",
        "\n",
        "# Show plots\n",
        "plt.show()"
      ],
      "execution_count": 34,
      "outputs": [
        {
          "output_type": "display_data",
          "data": {
            "image/png": "[encoded data removed]",
            "text/plain": [
              "<Figure size 1080x360 with 2 Axes>"
            ]
          },
          "metadata": {
            "needs_background": "light"
          }
        }
      ]
    },
    {
      "cell_type": "markdown",
      "metadata": {
        "id": "a2oKRRjlXoDA"
      },
      "source": [
        "## Interpretability"
      ]
    },
    {
      "cell_type": "markdown",
      "metadata": {
        "id": "83DaPyLrrqmE"
      },
      "source": [
        "Since we standardized our inputs and outputs, our weights were fit to those standardized values. So we need to unstandardize our weights so we can compare it to our true weight (3.5).\n",
        "\n",
        "Note that both X and y were standardized.\n",
        "\n",
        "$\\hat{y}_{scaled} = b_{scaled} + \\sum_{j=1}^{k}W_{{scaled}_j}x_{{scaled}_j}$\n",
        "* $y_{scaled} = \\frac{\\hat{y} - \\bar{y}}{\\sigma_y}$\n",
        "* $x_{scaled} = \\frac{x_j - \\bar{x}_j}{\\sigma_j}$\n",
        "\n",
        "$\\frac{\\hat{y} - \\bar{y}}{\\sigma_y} = b_{scaled} + \\sum_{j=1}^{k}W_{{scaled}_j}\\frac{x_j - \\bar{x}_j}{\\sigma_j}$\n",
        "\n",
        "$ \\hat{y}_{scaled} = \\frac{\\hat{y}_{unscaled} - \\bar{y}}{\\sigma_y} = {b_{scaled}} + \\sum_{j=1}^{k} {W}_{{scaled}_j} (\\frac{x_j - \\bar{x}_j}{\\sigma_j}) $\n",
        "\n",
        "$\\hat{y}_{unscaled} = b_{scaled}\\sigma_y + \\bar{y} - \\sum_{j=1}^{k} {W}_{{scaled}_j}(\\frac{\\sigma_y}{\\sigma_j})\\bar{x}_j + \\sum_{j=1}^{k}{W}_{{scaled}_j}(\\frac{\\sigma_y}{\\sigma_j})x_j $\n",
        "\n",
        "In the expression above, we can see the expression $\\hat{y}_{unscaled} = W_{unscaled}x + b_{unscaled} $ where\n",
        "\n",
        "* $W_{unscaled} = \\sum_{j=1}^{k}{W}_j(\\frac{\\sigma_y}{\\sigma_j}) $\n",
        "\n",
        "* $b_{unscaled} = b_{scaled}\\sigma_y + \\bar{y} - \\sum_{j=1}^{k} {W}_j(\\frac{\\sigma_y}{\\sigma_j})\\bar{x}_j$"
      ]
    },
    {
      "cell_type": "code",
      "metadata": {
        "colab": {
          "base_uri": "https://localhost:8080/"
        },
        "id": "uROsFZxYrZYu",
        "outputId": "8eb61187-e013-4b03-ac7f-5b70c0b60f83"
      },
      "source": [
        "# Unscaled weights\n",
        "W_unscaled = W * (y_std/X_std)\n",
        "b_unscaled = b * y_std + y_mean - np.sum(W_unscaled*X_mean)\n",
        "print (\"[actual] y = 3.5X + noise\")\n",
        "print (f\"[model] y_hat = {W_unscaled[0][0]:.1f}X + {b_unscaled[0]:.1f}\") "
      ],
      "execution_count": 35,
      "outputs": [
        {
          "output_type": "stream",
          "text": [
            "[actual] y = 3.5X + noise\n",
            "[model] y_hat = 3.4X + 9.5\n"
          ],
          "name": "stdout"
        }
      ]
    },
    {
      "cell_type": "markdown",
      "metadata": {
        "id": "6nAJqYIwrxLW"
      },
      "source": [
        "# PyTorch"
      ]
    },
    {
      "cell_type": "markdown",
      "metadata": {
        "id": "FP6JKnmtrzIK"
      },
      "source": [
        "Now that we've implemented linear regression with Numpy, let's do the same with PyTorch. "
      ]
    },
    {
      "cell_type": "code",
      "metadata": {
        "id": "F0B3KaLNZPAn"
      },
      "source": [
        "import torch"
      ],
      "execution_count": 36,
      "outputs": []
    },
    {
      "cell_type": "code",
      "metadata": {
        "colab": {
          "base_uri": "https://localhost:8080/"
        },
        "id": "jgAyIZlTxFkX",
        "outputId": "7976493f-c69f-492c-b219-eed05d6fcd58"
      },
      "source": [
        "# Set seed for reproducibility\n",
        "torch.manual_seed(SEED)"
      ],
      "execution_count": 37,
      "outputs": [
        {
          "output_type": "execute_result",
          "data": {
            "text/plain": [
              "<torch._C.Generator at 0x7f3b8f3c5bf0>"
            ]
          },
          "metadata": {},
          "execution_count": 37
        }
      ]
    },
    {
      "cell_type": "markdown",
      "metadata": {
        "id": "zNJFgUY0hcDZ"
      },
      "source": [
        "## Split data"
      ]
    },
    {
      "cell_type": "markdown",
      "metadata": {
        "id": "ASzn8LT2Xwb2"
      },
      "source": [
        "This time, instead of splitting data using indices, let's use scikit-learn's built in [`train_test_split`](https://scikit-learn.org/stable/modules/generated/sklearn.model_selection.train_test_split.html#sklearn.model_selection.train_test_split) function. This function will split a given dataset into two subsets so we'll use this function twice to create our three data splits."
      ]
    },
    {
      "cell_type": "code",
      "metadata": {
        "id": "WqcmdgEChtXI"
      },
      "source": [
        "from sklearn.model_selection import train_test_split"
      ],
      "execution_count": 38,
      "outputs": []
    },
    {
      "cell_type": "code",
      "metadata": {
        "id": "mU9AYWbzh4JQ"
      },
      "source": [
        "TRAIN_SIZE = 0.7\n",
        "VAL_SIZE = 0.15\n",
        "TEST_SIZE = 0.15"
      ],
      "execution_count": 39,
      "outputs": []
    },
    {
      "cell_type": "code",
      "metadata": {
        "id": "xtLx53hQhCp7"
      },
      "source": [
        "# Split (train)\n",
        "X_train, X_, y_train, y_ = train_test_split(X, y, train_size=TRAIN_SIZE)"
      ],
      "execution_count": 40,
      "outputs": []
    },
    {
      "cell_type": "code",
      "metadata": {
        "colab": {
          "base_uri": "https://localhost:8080/"
        },
        "id": "0qtXS7BmdsBX",
        "outputId": "1b244212-96a6-46dd-a126-2ffd12c94a22"
      },
      "source": [
        "print (f\"train: {len(X_train)} ({(len(X_train) / len(X)):.2f})\\n\"\n",
        "       f\"remaining: {len(X_)} ({(len(X_) / len(X)):.2f})\")"
      ],
      "execution_count": 41,
      "outputs": [
        {
          "output_type": "stream",
          "text": [
            "train: 35 (0.70)\n",
            "remaining: 15 (0.30)\n"
          ],
          "name": "stdout"
        }
      ]
    },
    {
      "cell_type": "code",
      "metadata": {
        "id": "lVTDrQAEdsG1"
      },
      "source": [
        "# Split (test)\n",
        "X_val, X_test, y_val, y_test = train_test_split(\n",
        "    X_, y_, train_size=0.5)"
      ],
      "execution_count": null,
      "outputs": []
    },
    {
      "cell_type": "code",
      "metadata": {
        "colab": {
          "base_uri": "https://localhost:8080/"
        },
        "id": "xSBiEwWCdsLW",
        "outputId": "2c2562e8-f11e-4f77-d09c-680ad801a3ad"
      },
      "source": [
        "print(f\"train: {len(X_train)} ({len(X_train)/len(X):.2f})\\n\"\n",
        "      f\"val: {len(X_val)} ({len(X_val)/len(X):.2f})\\n\"\n",
        "      f\"test: {len(X_test)} ({len(X_test)/len(X):.2f})\")"
      ],
      "execution_count": 42,
      "outputs": [
        {
          "output_type": "stream",
          "text": [
            "train: 35 (0.70)\n",
            "val: 7 (0.14)\n",
            "test: 8 (0.16)\n"
          ],
          "name": "stdout"
        }
      ]
    },
    {
      "cell_type": "markdown",
      "metadata": {
        "id": "8LSpLJkgkVRn"
      },
      "source": [
        "## Standardize data"
      ]
    },
    {
      "cell_type": "markdown",
      "metadata": {
        "id": "mM9C5xIeT5C8"
      },
      "source": [
        "We can also use scikit learn to do [preprocessing and normalization](https://scikit-learn.org/stable/modules/classes.html#module-sklearn.preprocessing). "
      ]
    },
    {
      "cell_type": "code",
      "metadata": {
        "id": "o-8Ii-JwkVWC"
      },
      "source": [
        "from sklearn.preprocessing import StandardScaler"
      ],
      "execution_count": 43,
      "outputs": []
    },
    {
      "cell_type": "code",
      "metadata": {
        "id": "M9FOu9-kkVeh"
      },
      "source": [
        "# Standardize the data (mean=0, std=1) using training data\n",
        "X_scaler = StandardScaler().fit(X_train)\n",
        "y_scaler = StandardScaler().fit(y_train)"
      ],
      "execution_count": 44,
      "outputs": []
    },
    {
      "cell_type": "code",
      "metadata": {
        "id": "YNWqEGsYkViI"
      },
      "source": [
        "# Apply scaler on training and test data\n",
        "X_train = X_scaler.transform(X_train)\n",
        "y_train = y_scaler.transform(y_train).ravel().reshape(-1, 1)\n",
        "X_val = X_scaler.transform(X_val)\n",
        "y_val = y_scaler.transform(y_val).ravel().reshape(-1, 1)\n",
        "X_test = X_scaler.transform(X_test)\n",
        "y_test = y_scaler.transform(y_test).ravel().reshape(-1, 1)"
      ],
      "execution_count": 45,
      "outputs": []
    },
    {
      "cell_type": "code",
      "metadata": {
        "colab": {
          "base_uri": "https://localhost:8080/"
        },
        "id": "aSAH9M4UnDAm",
        "outputId": "3882d4bf-f024-4a3a-bfeb-1a6d21f3c08b"
      },
      "source": [
        "# Check (means should be ~0 and std should be ~1)\n",
        "print (f\"mean: {np.mean(X_test, axis=0)[0]:.1f}, std: {np.std(X_test, axis=0)[0]:.1f}\")\n",
        "print (f\"mean: {np.mean(y_test, axis=0)[0]:.1f}, std: {np.std(y_test, axis=0)[0]:.1f}\")"
      ],
      "execution_count": 46,
      "outputs": [
        {
          "output_type": "stream",
          "text": [
            "mean: -1.9, std: 0.1\n",
            "mean: -2.0, std: 0.0\n"
          ],
          "name": "stdout"
        }
      ]
    },
    {
      "cell_type": "markdown",
      "metadata": {
        "id": "X3u7SbMfbqd9"
      },
      "source": [
        "## Weights"
      ]
    },
    {
      "cell_type": "markdown",
      "metadata": {
        "id": "S7FufaY1bzZA"
      },
      "source": [
        "We will be using [Linear layers](https://pytorch.org/docs/stable/nn.html#linear-layers) in our MLP implementation. These layers will act as our weights (and biases).\n",
        "\n",
        "$ z = XW $ "
      ]
    },
    {
      "cell_type": "code",
      "metadata": {
        "id": "WLyU8Y5ZrZl5"
      },
      "source": [
        "from torch import nn"
      ],
      "execution_count": 47,
      "outputs": []
    },
    {
      "cell_type": "code",
      "metadata": {
        "colab": {
          "base_uri": "https://localhost:8080/"
        },
        "id": "7c-gJ6BgrZjk",
        "outputId": "3e5e75ec-0440-494b-8e24-7bbf1e70c479"
      },
      "source": [
        "# Inputs\n",
        "N = 3 # num samples\n",
        "x = torch.randn(N, INPUT_DIM)\n",
        "print (x.shape)\n",
        "print (x.numpy())"
      ],
      "execution_count": 48,
      "outputs": [
        {
          "output_type": "stream",
          "text": [
            "torch.Size([3, 1])\n",
            "[[ 0.04613046]\n",
            " [ 0.40240282]\n",
            " [-1.0115291 ]]\n"
          ],
          "name": "stdout"
        }
      ]
    },
    {
      "cell_type": "code",
      "metadata": {
        "colab": {
          "base_uri": "https://localhost:8080/"
        },
        "id": "fFQcVwOrhdhN",
        "outputId": "bc2f3a50-c53d-4013-f58c-ddb1309a21ff"
      },
      "source": [
        "# Weights\n",
        "m = nn.Linear(INPUT_DIM, OUTPUT_DIM)\n",
        "print (m)\n",
        "print (f\"weights ({m.weight.shape}): {m.weight[0][0]:.2f}\")\n",
        "print (f\"bias ({m.bias.shape}): {m.bias[0]:.2f}\")"
      ],
      "execution_count": 49,
      "outputs": [
        {
          "output_type": "stream",
          "text": [
            "Linear(in_features=1, out_features=1, bias=True)\n",
            "weights (torch.Size([1, 1])): 0.35\n",
            "bias (torch.Size([1])): -0.34\n"
          ],
          "name": "stdout"
        }
      ]
    },
    {
      "cell_type": "code",
      "metadata": {
        "colab": {
          "base_uri": "https://localhost:8080/"
        },
        "id": "1dvWqTqMhdm0",
        "outputId": "ac1ff912-b710-43ff-fac3-e27c4742b26a"
      },
      "source": [
        "# Forward pass\n",
        "z = m(x) \n",
        "print (z.shape)\n",
        "print (z.detach().numpy())"
      ],
      "execution_count": 50,
      "outputs": [
        {
          "output_type": "stream",
          "text": [
            "torch.Size([3, 1])\n",
            "[[-0.32104054]\n",
            " [-0.19719592]\n",
            " [-0.68869597]]\n"
          ],
          "name": "stdout"
        }
      ]
    },
    {
      "cell_type": "markdown",
      "metadata": {
        "id": "t2j5_5SopsRF"
      },
      "source": [
        "## Model"
      ]
    },
    {
      "cell_type": "markdown",
      "metadata": {
        "id": "phjJCXREb5hG"
      },
      "source": [
        "Our goal is to learn a linear model $\\hat{y}$ that models $y$ given $X$. \n",
        "\n",
        "$\\hat{y} = XW + b$\n",
        "* $\\hat{y}$ = predictions | $\\in \\mathbb{R}^{NX1}$ ($N$ is the number of samples)\n",
        "* $X$ = inputs | $\\in \\mathbb{R}^{NXD}$ ($D$ is the number of features)\n",
        "* $W$ = weights | $\\in \\mathbb{R}^{DX1}$ \n",
        "* $b$ = bias | $\\in \\mathbb{R}^{1}$ "
      ]
    },
    {
      "cell_type": "code",
      "metadata": {
        "id": "Ds-jhvIhK4t6"
      },
      "source": [
        "from torchsummary import summary"
      ],
      "execution_count": 51,
      "outputs": []
    },
    {
      "cell_type": "code",
      "metadata": {
        "id": "cBQtSQIorZiB"
      },
      "source": [
        "class LinearRegression(nn.Module):\n",
        "    def __init__(self, input_dim, output_dim):\n",
        "        super(LinearRegression, self).__init__()\n",
        "        self.fc1 = nn.Linear(input_dim, output_dim)\n",
        "        \n",
        "    def forward(self, x_in):\n",
        "        y_pred = self.fc1(x_in)\n",
        "        return y_pred"
      ],
      "execution_count": 52,
      "outputs": []
    },
    {
      "cell_type": "code",
      "metadata": {
        "colab": {
          "base_uri": "https://localhost:8080/"
        },
        "id": "0U7wD5a6VSZ8",
        "outputId": "2286fdcc-206a-4616-8242-14bd2ce32421"
      },
      "source": [
        "# Initialize model\n",
        "model = LinearRegression(input_dim=INPUT_DIM, output_dim=OUTPUT_DIM)\n",
        "print (model.named_parameters)"
      ],
      "execution_count": 53,
      "outputs": [
        {
          "output_type": "stream",
          "text": [
            "<bound method Module.named_parameters of LinearRegression(\n",
            "  (fc1): Linear(in_features=1, out_features=1, bias=True)\n",
            ")>\n"
          ],
          "name": "stdout"
        }
      ]
    },
    {
      "cell_type": "markdown",
      "metadata": {
        "id": "pYKh54SKoma8"
      },
      "source": [
        "## Loss"
      ]
    },
    {
      "cell_type": "markdown",
      "metadata": {
        "id": "u9tf1RkLh5xT"
      },
      "source": [
        "This time we're using PyTorch's [loss functions](https://pytorch.org/docs/stable/nn.html#loss-functions), specifically [`MSELoss`](https://pytorch.org/docs/stable/generated/torch.nn.MSELoss.html#torch.nn.MSELoss)."
      ]
    },
    {
      "cell_type": "code",
      "metadata": {
        "colab": {
          "base_uri": "https://localhost:8080/"
        },
        "id": "gesdrs3Vo0nq",
        "outputId": "fb0d6ceb-fc17-4727-9692-b2dc472b5b78"
      },
      "source": [
        "loss_fn = nn.MSELoss()\n",
        "y_pred = torch.Tensor([0., 0., 1., 1.])\n",
        "y_true =  torch.Tensor([1., 1., 1., 0.])\n",
        "loss = loss_fn(y_pred, y_true)\n",
        "print('Loss: ', loss.numpy())"
      ],
      "execution_count": 54,
      "outputs": [
        {
          "output_type": "stream",
          "text": [
            "Loss:  0.75\n"
          ],
          "name": "stdout"
        }
      ]
    },
    {
      "cell_type": "markdown",
      "metadata": {
        "id": "mctyzTveoegu"
      },
      "source": [
        "## Optimizer"
      ]
    },
    {
      "cell_type": "markdown",
      "metadata": {
        "id": "PZ6IZ5pYcl1a"
      },
      "source": [
        "When we implemented linear regression with just NumPy, we used batch gradient descent to update our weights. But there are actually many different gradient descent [optimization algorithms](https://pytorch.org/docs/stable/optim.html) to choose from and it depends on the situation. However, the [ADAM optimizer](https://pytorch.org/docs/stable/optim.html#torch.optim.Adam) has become a standard algorithm for most cases. "
      ]
    },
    {
      "cell_type": "code",
      "metadata": {
        "id": "ViOE7L5RdRgX"
      },
      "source": [
        "from torch.optim import Adam"
      ],
      "execution_count": 55,
      "outputs": []
    },
    {
      "cell_type": "code",
      "metadata": {
        "id": "8EviGS0ldLvN"
      },
      "source": [
        "# Optimizer\n",
        "optimizer = Adam(model.parameters(), lr=LEARNING_RATE) "
      ],
      "execution_count": 56,
      "outputs": []
    },
    {
      "cell_type": "markdown",
      "metadata": {
        "id": "nXbZVkMAyIpL"
      },
      "source": [
        "## Training"
      ]
    },
    {
      "cell_type": "code",
      "metadata": {
        "id": "O6zoQ-fOghLM"
      },
      "source": [
        "# Convert data to tensors\n",
        "X_train = torch.Tensor(X_train)\n",
        "y_train = torch.Tensor(y_train)\n",
        "X_val = torch.Tensor(X_val)\n",
        "y_val = torch.Tensor(y_val)\n",
        "X_test = torch.Tensor(X_test)\n",
        "y_test = torch.Tensor(y_test)"
      ],
      "execution_count": 57,
      "outputs": []
    },
    {
      "cell_type": "code",
      "metadata": {
        "colab": {
          "base_uri": "https://localhost:8080/"
        },
        "id": "1xwV9WvBhVaF",
        "outputId": "b9ef24e1-0743-4cc4-8290-bd685630b849"
      },
      "source": [
        "# Training\n",
        "for epoch in range(NUM_EPOCHS):\n",
        "    # Forward pass\n",
        "    y_pred = model(X_train)\n",
        "\n",
        "    # Loss\n",
        "    loss = loss_fn(y_pred, y_train)\n",
        "\n",
        "    # Zero all gradients\n",
        "    optimizer.zero_grad()\n",
        "\n",
        "    # Backward pass\n",
        "    loss.backward()\n",
        "\n",
        "    # Update weights\n",
        "    optimizer.step()\n",
        "\n",
        "    if epoch%20==0: \n",
        "        print (f\"Epoch: {epoch} | loss: {loss:.2f}\")"
      ],
      "execution_count": 58,
      "outputs": [
        {
          "output_type": "stream",
          "text": [
            "Epoch: 0 | loss: 0.22\n",
            "Epoch: 20 | loss: 0.03\n",
            "Epoch: 40 | loss: 0.02\n",
            "Epoch: 60 | loss: 0.02\n",
            "Epoch: 80 | loss: 0.02\n"
          ],
          "name": "stdout"
        }
      ]
    },
    {
      "cell_type": "markdown",
      "metadata": {
        "id": "vj7cpeCsi6tf"
      },
      "source": [
        "## Evaluation"
      ]
    },
    {
      "cell_type": "markdown",
      "metadata": {
        "id": "P8yqeV40mHsZ"
      },
      "source": [
        "Now we're ready to evaluate our trained model."
      ]
    },
    {
      "cell_type": "code",
      "metadata": {
        "id": "LeQm-H2vi6A7"
      },
      "source": [
        "# Predictions\n",
        "pred_train = model(X_train)\n",
        "pred_test = model(X_test)"
      ],
      "execution_count": 59,
      "outputs": []
    },
    {
      "cell_type": "code",
      "metadata": {
        "colab": {
          "base_uri": "https://localhost:8080/"
        },
        "id": "dnW9b7ZQkA2l",
        "outputId": "0ee4baef-aa50-4e17-dcaa-4660bc6e9773"
      },
      "source": [
        "# Performance\n",
        "train_error = loss_fn(pred_train, y_train)\n",
        "test_error = loss_fn(pred_test, y_test)\n",
        "print(f'train_error: {train_error:.2f}')\n",
        "print(f'test_error: {test_error:.2f}')"
      ],
      "execution_count": 60,
      "outputs": [
        {
          "output_type": "stream",
          "text": [
            "train_error: 0.02\n",
            "test_error: 0.01\n"
          ],
          "name": "stdout"
        }
      ]
    },
    {
      "cell_type": "markdown",
      "metadata": {
        "id": "HdNCjH4ZjnRu"
      },
      "source": [
        "Since we only have one feature, it's easy to visually inspect the model."
      ]
    },
    {
      "cell_type": "code",
      "metadata": {
        "colab": {
          "base_uri": "https://localhost:8080/",
          "height": 336
        },
        "id": "h0a-iUi4i6Iy",
        "outputId": "187ea394-846f-4e8c-b5a4-c734745156b6"
      },
      "source": [
        "# Figure size\n",
        "plt.figure(figsize=(15,5))\n",
        "\n",
        "# Plot train data\n",
        "plt.subplot(1, 2, 1)\n",
        "plt.title(\"Train\")\n",
        "plt.scatter(X_train, y_train, label='y_train')\n",
        "plt.plot(X_train, pred_train.detach().numpy(), color='red', linewidth=1, linestyle='-', label='model')\n",
        "plt.legend(loc='lower right')\n",
        "\n",
        "# Plot test data\n",
        "plt.subplot(1, 2, 2)\n",
        "plt.title(\"Test\")\n",
        "plt.scatter(X_test, y_test, label='y_test')\n",
        "plt.plot(X_test, pred_test.detach().numpy(), color='red', linewidth=1, linestyle='-', label='model')\n",
        "plt.legend(loc='lower right')\n",
        "\n",
        "# Show plots\n",
        "plt.show()"
      ],
      "execution_count": 61,
      "outputs": [
        {
          "output_type": "display_data",
          "data": {
            "image/png": "[encoded data removed]",
            "text/plain": [
              "<Figure size 1080x360 with 2 Axes>"
            ]
          },
          "metadata": {
            "needs_background": "light"
          }
        }
      ]
    },
    {
      "cell_type": "markdown",
      "metadata": {
        "id": "e9ppP7yDmAq7"
      },
      "source": [
        "## Inference"
      ]
    },
    {
      "cell_type": "markdown",
      "metadata": {
        "id": "x1EeMpH8mD3f"
      },
      "source": [
        "After training a model, we can use it to predict on new data."
      ]
    },
    {
      "cell_type": "code",
      "metadata": {
        "id": "gyGJ3ossi6Gm"
      },
      "source": [
        "# Feed in your own inputs\n",
        "sample_indices = [10, 15, 25]\n",
        "X_infer = np.array(sample_indices, dtype=np.float32)\n",
        "X_infer = torch.Tensor(X_scaler.transform(X_infer.reshape(-1, 1)))"
      ],
      "execution_count": 62,
      "outputs": []
    },
    {
      "cell_type": "markdown",
      "metadata": {
        "id": "9PuOcgwlmMST"
      },
      "source": [
        "Recall that we need to unstandardize our predictions.\n",
        "\n",
        "$ \\hat{y}_{scaled} = \\frac{\\hat{y} - \\mu_{\\hat{y}}}{\\sigma_{\\hat{y}}} $\n",
        "\n",
        "$ \\hat{y} = \\hat{y}_{scaled} * \\sigma_{\\hat{y}} + \\mu_{\\hat{y}} $"
      ]
    },
    {
      "cell_type": "code",
      "metadata": {
        "colab": {
          "base_uri": "https://localhost:8080/"
        },
        "id": "j0uQOCzai5-G",
        "outputId": "af62d6bd-e3d5-4dad-a23a-4adaf035c309"
      },
      "source": [
        "# Unstandardize predictions\n",
        "pred_infer = model(X_infer).detach().numpy() * np.sqrt(y_scaler.var_) + y_scaler.mean_\n",
        "for i, index in enumerate(sample_indices):\n",
        "    print (f\"{df.iloc[index]['y']:.2f} (actual) → {pred_infer[i][0]:.2f} (predicted)\")"
      ],
      "execution_count": 63,
      "outputs": [
        {
          "output_type": "stream",
          "text": [
            "35.73 (actual) → 41.39 (predicted)\n",
            "59.34 (actual) → 58.46 (predicted)\n",
            "97.04 (actual) → 92.62 (predicted)\n"
          ],
          "name": "stdout"
        }
      ]
    },
    {
      "cell_type": "markdown",
      "metadata": {
        "id": "1TMS8GvcmWZ0"
      },
      "source": [
        "## Interpretability"
      ]
    },
    {
      "cell_type": "markdown",
      "metadata": {
        "id": "jd_eIgQBmYzm"
      },
      "source": [
        "Linear regression offers the great advantage of being highly interpretable. Each feature has a coefficient which signifies its importance/impact on the output variable y. We can interpret our coefficient as follows: by increasing X by 1 unit, we increase y by $W$ (~3.65) units. "
      ]
    },
    {
      "cell_type": "code",
      "metadata": {
        "colab": {
          "base_uri": "https://localhost:8080/"
        },
        "id": "YvIKQ6sVmV-A",
        "outputId": "e84ba819-64b2-4a20-aa7f-91eb7226976b"
      },
      "source": [
        "# Unstandardize coefficients \n",
        "W = model.fc1.weight.data.numpy()[0][0]\n",
        "b = model.fc1.bias.data.numpy()[0]\n",
        "W_unscaled = W * (y_scaler.scale_/X_scaler.scale_)\n",
        "b_unscaled = b * y_scaler.scale_ + y_scaler.mean_ - np.sum(W_unscaled*X_scaler.mean_)\n",
        "print (\"[actual] y = 3.5X + noise\")\n",
        "print (f\"[model] y_hat = {W_unscaled[0]:.1f}X + {b_unscaled[0]:.1f}\") "
      ],
      "execution_count": 64,
      "outputs": [
        {
          "output_type": "stream",
          "text": [
            "[actual] y = 3.5X + noise\n",
            "[model] y_hat = 3.4X + 7.2\n"
          ],
          "name": "stdout"
        }
      ]
    },
    {
      "cell_type": "markdown",
      "metadata": {
        "id": "7-BrAEsOsj3g"
      },
      "source": [
        "# Regularization"
      ]
    },
    {
      "cell_type": "markdown",
      "metadata": {
        "id": "rCEbjZARsmBc"
      },
      "source": [
        "Regularization helps decrease overfitting. Below is `L2` regularization (ridge regression). There are many forms of regularization but they all work to reduce overfitting in our models. With `L2` regularization, we are penalizing the weights with large magnitudes by decaying them. Having certain weights with high magnitudes will lead to preferential bias with the inputs and we want the model to work with all the inputs and not just a select few. There are also other types of regularization like `L1` (lasso regression) which is useful for creating sparse models where some feature coefficients are zeroed out, or elastic which combines `L1` and `L2` penalties. "
      ]
    },
    {
      "cell_type": "markdown",
      "metadata": {
        "id": "7TczoY2lpEm5"
      },
      "source": [
        "> Regularization is not just for linear regression. You can use it to regularize any model's weights including the ones we will look at in future lessons."
      ]
    },
    {
      "cell_type": "markdown",
      "metadata": {
        "id": "QfVSaAQfspyk"
      },
      "source": [
        "$ J(\\theta) = \\frac{1}{2}\\sum_{i}(X_iW - y_i)^2 + \\frac{\\lambda}{2}W^TW$\n",
        "\n",
        "$ \\frac{\\partial{J}}{\\partial{W}}  = X (\\hat{y} - y) + \\lambda W $\n",
        "\n",
        "$W = W- \\alpha\\frac{\\partial{J}}{\\partial{W}}$\n",
        "* $\\lambda$ is the regularization coefficient\n",
        "* $\\alpha$ is the learning rate"
      ]
    },
    {
      "cell_type": "markdown",
      "metadata": {
        "id": "o2S08Iexota7"
      },
      "source": [
        "In PyTorch, we can add L2 regularization by adjusting our optimizer. The Adam optimizer has a `weight_decay` parameter which to control the L2 penalty."
      ]
    },
    {
      "cell_type": "code",
      "metadata": {
        "id": "E-KcdfC1slrn"
      },
      "source": [
        "L2_LAMBDA = 1e-2"
      ],
      "execution_count": 65,
      "outputs": []
    },
    {
      "cell_type": "code",
      "metadata": {
        "id": "cevnJ1JZqZed"
      },
      "source": [
        "# Initialize model\n",
        "model = LinearRegression(input_dim=INPUT_DIM, output_dim=OUTPUT_DIM)"
      ],
      "execution_count": 66,
      "outputs": []
    },
    {
      "cell_type": "code",
      "metadata": {
        "id": "QjvyB0_vaGHw"
      },
      "source": [
        "# Optimizer (w/ L2 regularization)\n",
        "optimizer = Adam(model.parameters(), lr=LEARNING_RATE, weight_decay=L2_LAMBDA) "
      ],
      "execution_count": 67,
      "outputs": []
    },
    {
      "cell_type": "code",
      "metadata": {
        "colab": {
          "base_uri": "https://localhost:8080/"
        },
        "id": "EP9k4W8spOPe",
        "outputId": "b80dcc90-932c-4aa7-d865-462adc5bc1d0"
      },
      "source": [
        "# Training\n",
        "for epoch in range(NUM_EPOCHS):\n",
        "    # Forward pass\n",
        "    y_pred = model(X_train)\n",
        "\n",
        "    # Loss\n",
        "    loss = loss_fn(y_pred, y_train)\n",
        "\n",
        "    # Zero all gradients\n",
        "    optimizer.zero_grad()\n",
        "\n",
        "    # Backward pass\n",
        "    loss.backward()\n",
        "\n",
        "    # Update weights\n",
        "    optimizer.step()\n",
        "\n",
        "    if epoch%20==0: \n",
        "        print (f\"Epoch: {epoch} | loss: {loss:.2f}\")"
      ],
      "execution_count": 68,
      "outputs": [
        {
          "output_type": "stream",
          "text": [
            "Epoch: 0 | loss: 0.63\n",
            "Epoch: 20 | loss: 0.04\n",
            "Epoch: 40 | loss: 0.03\n",
            "Epoch: 60 | loss: 0.02\n",
            "Epoch: 80 | loss: 0.02\n"
          ],
          "name": "stdout"
        }
      ]
    },
    {
      "cell_type": "code",
      "metadata": {
        "id": "khfs3lDztn8W"
      },
      "source": [
        "# Predictions\n",
        "pred_train = model(X_train)\n",
        "pred_test = model(X_test)"
      ],
      "execution_count": 69,
      "outputs": []
    },
    {
      "cell_type": "code",
      "metadata": {
        "colab": {
          "base_uri": "https://localhost:8080/"
        },
        "id": "Tr2MPdIOtoIT",
        "outputId": "96f7566c-8e3a-4fcb-af08-97b0d643ff34"
      },
      "source": [
        "# Performance\n",
        "train_error = loss_fn(pred_train, y_train)\n",
        "test_error = loss_fn(pred_test, y_test)\n",
        "print(f'train_error: {train_error:.2f}')\n",
        "print(f'test_error: {test_error:.2f}')"
      ],
      "execution_count": 70,
      "outputs": [
        {
          "output_type": "stream",
          "text": [
            "train_error: 0.02\n",
            "test_error: 0.01\n"
          ],
          "name": "stdout"
        }
      ]
    },
    {
      "cell_type": "markdown",
      "metadata": {
        "id": "zbT59j1otfV4"
      },
      "source": [
        "Regularization didn't make a difference in performance with this specific example because our data is generated from a perfect linear equation but for large realistic data, regularization can help our model generalize well."
      ]
    }
  ]
}